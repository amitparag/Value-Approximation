{
 "cells": [
  {
   "cell_type": "code",
   "execution_count": 1,
   "metadata": {},
   "outputs": [],
   "source": [
    "import numpy as np\n",
    "import torch\n",
    "import crocoddyl\n",
    "from feedforward_network import FeedForwardNet\n",
    "from utils import solve_problem, random_positions, grid_data, circular_data\n",
    "from terminal_models import FeedforwardUnicycle\n"
   ]
  },
  {
   "cell_type": "code",
   "execution_count": 2,
   "metadata": {},
   "outputs": [],
   "source": [
    "net10 = torch.load(\"./nets/net10.pth\")"
   ]
  },
  {
   "cell_type": "code",
   "execution_count": 3,
   "metadata": {},
   "outputs": [],
   "source": [
    "grids = grid_data(size = 70, theta_lims=[0., 0])\n"
   ]
  },
  {
   "cell_type": "code",
   "execution_count": 6,
   "metadata": {},
   "outputs": [
    {
     "data": {
      "text/plain": [
       "array([[-2.        , -2.        ,  0.        ],\n",
       "       [-2.        , -1.94202899,  0.        ],\n",
       "       [-2.        , -1.88405797,  0.        ],\n",
       "       ...,\n",
       "       [ 2.        ,  1.88405797,  0.        ],\n",
       "       [ 2.        ,  1.94202899,  0.        ],\n",
       "       [ 2.        ,  2.        ,  0.        ]])"
      ]
     },
     "execution_count": 6,
     "metadata": {},
     "output_type": "execute_result"
    }
   ],
   "source": [
    "positions = torch.tensor(grids, dtype = torch.float32)\n",
    "with torch.no_grad():\n",
    "    predictions = net10(positions).detach().numpy().reshape(-1, 1)\n",
    "    "
   ]
  },
  {
   "cell_type": "code",
   "execution_count": null,
   "metadata": {},
   "outputs": [],
   "source": []
  }
 ],
 "metadata": {
  "kernelspec": {
   "display_name": "Python 3",
   "language": "python",
   "name": "python3"
  },
  "language_info": {
   "codemirror_mode": {
    "name": "ipython",
    "version": 3
   },
   "file_extension": ".py",
   "mimetype": "text/x-python",
   "name": "python",
   "nbconvert_exporter": "python",
   "pygments_lexer": "ipython3",
   "version": "3.6.9"
  }
 },
 "nbformat": 4,
 "nbformat_minor": 4
}
