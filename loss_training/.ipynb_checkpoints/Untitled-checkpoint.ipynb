{
 "cells": [
  {
   "cell_type": "code",
   "execution_count": 1,
   "metadata": {},
   "outputs": [],
   "source": [
    "%load_ext autoreload\n",
    "%autoreload 2"
   ]
  },
  {
   "cell_type": "code",
   "execution_count": 2,
   "metadata": {},
   "outputs": [],
   "source": [
    "import numpy as np\n",
    "import torch\n",
    "import torch.nn as nn\n",
    "import crocoddyl\n",
    "import matplotlib.pyplot as plt\n",
    "from tqdm import tqdm\n",
    "from utils import ValueNetwork, PolicyNetwork\n",
    "import numdifftools as nd\n",
    "torch.set_default_dtype(torch.double)\n",
    "\n",
    "if torch.cuda.is_available():\n",
    "    torch.cuda.empty_cache()"
   ]
  },
  {
   "cell_type": "markdown",
   "metadata": {},
   "source": [
    "$(\\sqrt{x^2 + y^2} - 1)^2$ + $(\\theta - \\arctan2(y,x))^2$ + $(\\cos\\theta - y)^2$ +  $(\\sin\\theta - x)^2$"
   ]
  },
  {
   "cell_type": "code",
   "execution_count": 3,
   "metadata": {},
   "outputs": [],
   "source": [
    "def loss_func(x):\n",
    "    return (np.sqrt(x[0]**2 + x[1]**2) - 1)**2 + (x[2] - np.arctan2(x[1], x[0]))**2 + \\\n",
    "            (np.cos(x[2]) - x[1])**2 + (np.sin(x[2]) - x[0])**2"
   ]
  },
  {
   "cell_type": "code",
   "execution_count": 4,
   "metadata": {},
   "outputs": [],
   "source": [
    "def griddedData(n_points:int = 1500,\n",
    "                xy_limits:list = [-1.9,1.9],\n",
    "                theta_limits:list = [-np.pi/2, np.pi/2]\n",
    "                ):\n",
    "    \"\"\"Generate datapoints from a grid\"\"\"\n",
    "\n",
    "    size = int(np.sqrt(n_points)) + 1\n",
    "\n",
    "    min_x, max_x = [*xy_limits]\n",
    "    xrange = np.linspace(min_x,max_x,size, endpoint=True)\n",
    "    trange = np.linspace(*theta_limits, size, endpoint=True)\n",
    "    points = np.array([ [x1,x2, x3] for x1 in xrange for x2 in xrange for x3 in trange])\n",
    "\n",
    "    np.round_(points, decimals=6)\n",
    "    np.random.shuffle(points)\n",
    "    points = points[0:n_points, : ]\n",
    "    return points"
   ]
  },
  {
   "cell_type": "code",
   "execution_count": null,
   "metadata": {},
   "outputs": [],
   "source": []
  },
  {
   "cell_type": "code",
   "execution_count": 12,
   "metadata": {},
   "outputs": [],
   "source": [
    "# ... HYPERPARAMS\n",
    "\n",
    "FC1_DIMS              = 20\n",
    "FC2_DIMS              = 20\n",
    "FC3_DIMS              = 1\n",
    "\n",
    "ACTIVATION            = nn.Tanh()\n",
    "DEVICE                = 'cuda'\n",
    "EPOCHS                = 1000\n",
    "BATCHSIZE             = 16\n",
    "LR                    = 1e-3\n",
    "DECAY                 = 5e-3\n"
   ]
  },
  {
   "cell_type": "code",
   "execution_count": null,
   "metadata": {},
   "outputs": [],
   "source": [
    "xtrain = griddedData(n_points=500)\n",
    "xtest  = griddedData(100)\n",
    "\n",
    "ytrain = np.array(list(map(loss_func, xtrain))).reshape(-1, 1)\n",
    "ytest = np.array(list(map(loss_func, xtest))).reshape(-1, 1)\n",
    "\n",
    "xtrain = torch.Tensor(xtrain).to(DEVICE)\n",
    "ytrain = torch.Tensor(ytrain).to(DEVICE)\n",
    "\n",
    "xtest = torch.Tensor(xtest).to(DEVICE)\n",
    "ytest = torch.Tensor(ytest).to(DEVICE)"
   ]
  },
  {
   "cell_type": "code",
   "execution_count": null,
   "metadata": {},
   "outputs": [],
   "source": [
    "net = ValueNetwork(fc1_dims=FC1_DIMS, fc2_dims=FC2_DIMS, fc3_dims=FC3_DIMS, device=DEVICE)\n"
   ]
  },
  {
   "cell_type": "code",
   "execution_count": null,
   "metadata": {},
   "outputs": [],
   "source": [
    "dataset = torch.utils.data.TensorDataset(xtrain, ytrain)\n",
    "dataloader = torch.utils.data.DataLoader(dataset, batch_size = BATCHSIZE, shuffle=True)"
   ]
  },
  {
   "cell_type": "code",
   "execution_count": null,
   "metadata": {},
   "outputs": [],
   "source": [
    "#......  CRITERIA\n",
    "criterion1 = torch.nn.MSELoss(reduction='sum')\n",
    "criterion2 = torch.nn.L1Loss(reduction='sum')"
   ]
  },
  {
   "cell_type": "code",
   "execution_count": null,
   "metadata": {},
   "outputs": [],
   "source": [
    "opt = torch.optim.Adam(net.parameters(), lr = LR, betas=[0.5, 0.9], weight_decay=DECAY)"
   ]
  },
  {
   "cell_type": "code",
   "execution_count": null,
   "metadata": {},
   "outputs": [],
   "source": [
    "for epoch in range(EPOCHS):\n",
    "    for data, target in dataloader:\n",
    "        net.train()\n",
    "        opt.zero_grad()\n",
    "\n",
    "        data        = data.to(DEVICE)\n",
    "        target      = target.to(DEVICE)\n",
    "        output      = net(data)\n",
    "        loss        = torch.sqrt(criterion1(output, target)) + 0.01*criterion2(output, target)\n",
    "        loss.backward()\n",
    "        opt.step()\n",
    "    \n",
    "    # Validation\n",
    "    acc = 0\n",
    "    acc2 = 0\n",
    "    pred = net(xtest)\n",
    "    mae = torch.mean(torch.abs(pred - ytest))\n",
    "    for i in range(len(xtest)):\n",
    "        xtest[i].resize_(1, 3)\n",
    "        pred = net(xtest[i]).item()\n",
    "        if np.abs(pred - ytest[i].item()) < 0.1:\n",
    "            acc += 1\n",
    "        elif np.abs(pred - ytest[i].item()) < 0.5:\n",
    "            acc2 += 1\n",
    "    print(f\"EPOCH : {epoch} || MAE : {mae} || Within 0.1: {acc}/{len(xtest)} || Within 0.5 : {acc2}/{len(xtest)}\")\n",
    "    \n",
    "        "
   ]
  },
  {
   "cell_type": "code",
   "execution_count": null,
   "metadata": {},
   "outputs": [],
   "source": [
    "grid = griddedData(3000, theta_limits=[0, 0])\n",
    "x_val = torch.Tensor(grid).to(DEVICE)\n",
    "\n",
    "cost = np.array(list(map(loss_func, grid))).reshape(-1, 1)\n",
    "\n",
    "\n",
    "pred = net(x_val).cpu().detach().numpy().reshape(-1, 1)\n",
    "\n"
   ]
  },
  {
   "cell_type": "code",
   "execution_count": null,
   "metadata": {},
   "outputs": [],
   "source": [
    "plt.clf()\n",
    "plt.set_cmap('viridis')\n",
    "fig, axs = plt.subplots(1, 2, figsize=(9, 3), sharex=True, sharey ='row')\n",
    "fig.subplots_adjust(left=0.02, bottom=0.2, top=0.94)\n",
    "\n",
    "im0 = axs[0].scatter(x = grid[:,0], y = grid[:,1], c= cost)\n",
    "fig.colorbar(im0, ax=axs[0], pad=0.2)\n",
    "im1 = axs[1].scatter(x = grid[:,0], y = grid[:,1], c= pred)\n",
    "fig.colorbar(im1, ax=axs[1], pad=0.2)\n",
    "axs[0].title.set_text(\"Loss Function\")\n",
    "axs[1].title.set_text(\"Prediction\")\n",
    "#axs[2].title.set_text(\"Iteration # 10\")\n",
    "\n",
    "#plt.savefig(\"loss1.png\")\n"
   ]
  },
  {
   "cell_type": "code",
   "execution_count": null,
   "metadata": {},
   "outputs": [],
   "source": []
  },
  {
   "cell_type": "code",
   "execution_count": 5,
   "metadata": {},
   "outputs": [],
   "source": [
    "class TerminalModelUnicycle(crocoddyl.ActionModelAbstract):\n",
    "    \"\"\"\n",
    "    This includes a feedforward network in crocoddyl\n",
    "    \n",
    "    \"\"\"\n",
    "    def __init__(self):\n",
    "        crocoddyl.ActionModelAbstract.__init__(self, crocoddyl.StateVector(3), 2, 5)\n",
    "\n",
    "    def calc(self, data, x, u=None):\n",
    "        if u is None:\n",
    "            u = self.unone\n",
    "        cost = loss_func(x)\n",
    "        data.cost = cost\n",
    "        \n",
    "    def calcDiff(self, data, x, u=None):\n",
    "        if u is None:\n",
    "            u = self.unone\n",
    "        \n",
    "        dx = nd.Gradient(loss_func)\n",
    "        dxx = nd.Hessian(loss_func)\n",
    "        data.Lx = dx(x)\n",
    "        data.Lxx = dxx(x)\n",
    "        \n",
    "class TerminalNetworkUnicycle(crocoddyl.ActionModelAbstract):\n",
    "    \"\"\"\n",
    "    This includes a feedforward network in crocoddyl\n",
    "    \n",
    "    \"\"\"\n",
    "    def __init__(self, neural_net):\n",
    "        crocoddyl.ActionModelAbstract.__init__(self, crocoddyl.StateVector(3), 2, 5)\n",
    "        self.net = neural_net\n",
    "        device = torch.device('cpu')\n",
    "        self.net.to(device)\n",
    "\n",
    "    def calc(self, data, x, u=None):\n",
    "        if u is None:\n",
    "            u = self.unone\n",
    "        x = torch.Tensor(x).resize_(1, 3)\n",
    "        \n",
    "        with torch.no_grad():\n",
    "            data.cost = self.net(x).item()\n",
    "        \n",
    "    def calcDiff(self, data, x, u=None):\n",
    "        if u is None:\n",
    "            u = self.unone\n",
    "\n",
    "        x = torch.Tensor(x).resize_(1, 3)\n",
    "        \n",
    "        data.Lx = self.net.jacobian(x).detach().numpy()\n",
    "        data.Lxx = self.net.hessian(x).detach().numpy()\n"
   ]
  },
  {
   "cell_type": "code",
   "execution_count": null,
   "metadata": {},
   "outputs": [],
   "source": [
    "ddp_cost = []\n",
    "ddp_net_cost = []\n",
    "grid = griddedData(3000, xy_limits=[-1.,1.],theta_limits=[0, 0])\n",
    "\n",
    "for x0 in tqdm(grid):\n",
    "    \n",
    "\n",
    "    model = crocoddyl.ActionModelUnicycle()\n",
    "    t_model = TerminalModelUnicycle()\n",
    "    model.costweights = np.array([1., 1.]).T\n",
    "    problem = crocoddyl.ShootingProblem(x0.T, [model]*20, t_model)\n",
    "    ddp = crocoddyl.SolverDDP(problem)\n",
    "    ddp.th_stop = 1e-6\n",
    "    ddp.solve([], [] , 1000)\n",
    "    ddp_cost.append(ddp.cost)\n",
    "    \n",
    "for x0 in tqdm(grid):\n",
    "    model = crocoddyl.ActionModelUnicycle()\n",
    "    t_model = TerminalNetworkUnicycle(net)\n",
    "    model.costweights = np.array([1., 1.]).T\n",
    "    problem = crocoddyl.ShootingProblem(x0.T, [model]*20, t_model)\n",
    "    ddp = crocoddyl.SolverDDP(problem)\n",
    "    ddp.th_stop = 1e-6\n",
    "\n",
    "    ddp.solve([], [], 1000)\n",
    "    ddp_net_cost.append(ddp.cost)\n"
   ]
  },
  {
   "cell_type": "code",
   "execution_count": null,
   "metadata": {},
   "outputs": [],
   "source": [
    "error = np.array(ddp_net_cost) - np.array(ddp_cost)"
   ]
  },
  {
   "cell_type": "code",
   "execution_count": null,
   "metadata": {},
   "outputs": [],
   "source": [
    "plt.clf()\n",
    "plt.set_cmap('viridis')\n",
    "fig, axs = plt.subplots(1, figsize=(5, 4), sharex=True, sharey ='row')\n",
    "fig.subplots_adjust(left=0.02, bottom=0.2, top=0.94)\n",
    "\n",
    "#im0 = axs[0].scatter(x = grid[:,0], y = grid[:,1], c= ddp_cost)\n",
    "#fig.colorbar(im0, ax=axs[0], pad=0.2).set_label(\"Cost\", fontsize = 10)\n",
    "#im1 = axs[1].scatter(x = grid[:,0], y = grid[:,1], c= ddp_net_cost)\n",
    "#fig.colorbar(im1, ax=axs[1], pad=0.2).set_label(\"Cost\", fontsize = 10)\n",
    "\n",
    "im1 = axs.scatter(x = grid[:,0], y = grid[:,1], c= error)\n",
    "fig.colorbar(im2, ax=axs, pad=0.2).set_label(\"Error\", fontsize = 10)\n",
    "\n",
    "#axs[0].title.set_text(\"Crocoddyl with Loss Function\")\n",
    "#axs[1].title.set_text(\"Crocoddyl with Network.\")\n",
    "#axs[1].axis(\"off\")\n",
    "#axs[0].axis(\"off\")\n",
    "axs.title.set_text(\"Error.\")\n",
    "\n",
    "plt.savefig(\"Error.png\")"
   ]
  },
  {
   "cell_type": "code",
   "execution_count": null,
   "metadata": {},
   "outputs": [],
   "source": [
    "torch.save(net, 'lossNet.pth')"
   ]
  },
  {
   "cell_type": "code",
   "execution_count": 6,
   "metadata": {},
   "outputs": [
    {
     "name": "stderr",
     "output_type": "stream",
     "text": [
      "100%|██████████| 500/500 [03:01<00:00,  2.76it/s]\n"
     ]
    }
   ],
   "source": [
    "# For warmstarting\n",
    "\n",
    "x_state = griddedData(500, xy_limits=[-1.5,1.5],theta_limits=[-np.pi/2, np.pi/2])\n",
    "p_xtrain = []\n",
    "p_ytrain = []\n",
    "for x0 in tqdm(x_state):\n",
    "    \n",
    "\n",
    "    model = crocoddyl.ActionModelUnicycle()\n",
    "    t_model = TerminalModelUnicycle()\n",
    "    model.costweights = np.array([1., 1.]).T\n",
    "    problem = crocoddyl.ShootingProblem(x0.T, [model]*30, t_model)\n",
    "    ddp = crocoddyl.SolverDDP(problem)\n",
    "    ddp.solve([], [] , 1000)\n",
    "    # Dataset for policy\n",
    "    for _ in ddp.xs[:-1]:\n",
    "        p_xtrain.append(_)\n",
    "    for _ in ddp.xs[1:]:\n",
    "        p_ytrain.append(_)\n"
   ]
  },
  {
   "cell_type": "code",
   "execution_count": 7,
   "metadata": {},
   "outputs": [
    {
     "name": "stdout",
     "output_type": "stream",
     "text": [
      "(15000, 3)\n"
     ]
    }
   ],
   "source": [
    "p_xtrain, p_ytrain = np.array(p_xtrain), np.array(p_ytrain)\n",
    "\n",
    "print(p_ytrain.shape)"
   ]
  },
  {
   "cell_type": "code",
   "execution_count": 8,
   "metadata": {},
   "outputs": [],
   "source": [
    "pnet = PolicyNetwork(fc1_dims = 20, fc2_dims=20, fc3_dims=2, activation =nn.Tanh(), device='cpu') "
   ]
  },
  {
   "cell_type": "code",
   "execution_count": 9,
   "metadata": {},
   "outputs": [],
   "source": [
    "p_xtest  = torch.Tensor(p_xtrain[0:100,:])\n",
    "p_ytest  = torch.Tensor(p_ytrain[0:100,:])\n",
    "\n",
    "p_xtrain = torch.Tensor(p_xtrain[100:,:])\n",
    "p_ytrain = torch.Tensor(p_ytrain[100:,:])\n"
   ]
  },
  {
   "cell_type": "code",
   "execution_count": 17,
   "metadata": {},
   "outputs": [
    {
     "name": "stdout",
     "output_type": "stream",
     "text": [
      "EPOCH : 0 || MAE : 0.03972868302499614 || Within 0.1: 93/100 || Within 0.5 : 6/100\n",
      "EPOCH : 1 || MAE : 0.040336589230720386 || Within 0.1: 93/100 || Within 0.5 : 7/100\n",
      "EPOCH : 2 || MAE : 0.044013787243183465 || Within 0.1: 93/100 || Within 0.5 : 7/100\n",
      "EPOCH : 3 || MAE : 0.040355613020509995 || Within 0.1: 93/100 || Within 0.5 : 7/100\n",
      "EPOCH : 4 || MAE : 0.040183683827558145 || Within 0.1: 93/100 || Within 0.5 : 6/100\n",
      "EPOCH : 5 || MAE : 0.040600201207191225 || Within 0.1: 93/100 || Within 0.5 : 7/100\n",
      "EPOCH : 6 || MAE : 0.041322462128400655 || Within 0.1: 93/100 || Within 0.5 : 7/100\n",
      "EPOCH : 7 || MAE : 0.04174914028695475 || Within 0.1: 93/100 || Within 0.5 : 7/100\n",
      "EPOCH : 8 || MAE : 0.04155605068394473 || Within 0.1: 93/100 || Within 0.5 : 6/100\n",
      "EPOCH : 9 || MAE : 0.041816118920475744 || Within 0.1: 93/100 || Within 0.5 : 7/100\n",
      "EPOCH : 10 || MAE : 0.041356500201195086 || Within 0.1: 93/100 || Within 0.5 : 6/100\n",
      "EPOCH : 11 || MAE : 0.04023015441162577 || Within 0.1: 93/100 || Within 0.5 : 7/100\n",
      "EPOCH : 12 || MAE : 0.04326110068856068 || Within 0.1: 93/100 || Within 0.5 : 7/100\n",
      "EPOCH : 13 || MAE : 0.040001121628147285 || Within 0.1: 93/100 || Within 0.5 : 7/100\n",
      "EPOCH : 14 || MAE : 0.03900955621011539 || Within 0.1: 93/100 || Within 0.5 : 7/100\n",
      "EPOCH : 15 || MAE : 0.0389371931253655 || Within 0.1: 94/100 || Within 0.5 : 6/100\n",
      "EPOCH : 16 || MAE : 0.040578828501027966 || Within 0.1: 93/100 || Within 0.5 : 7/100\n",
      "EPOCH : 17 || MAE : 0.04095440267931715 || Within 0.1: 93/100 || Within 0.5 : 7/100\n",
      "EPOCH : 18 || MAE : 0.03996822459241439 || Within 0.1: 93/100 || Within 0.5 : 7/100\n",
      "EPOCH : 19 || MAE : 0.04302944667791467 || Within 0.1: 93/100 || Within 0.5 : 6/100\n",
      "EPOCH : 20 || MAE : 0.04025372742729282 || Within 0.1: 93/100 || Within 0.5 : 7/100\n",
      "EPOCH : 21 || MAE : 0.041426448069317105 || Within 0.1: 93/100 || Within 0.5 : 6/100\n",
      "EPOCH : 22 || MAE : 0.04232759464234267 || Within 0.1: 93/100 || Within 0.5 : 7/100\n",
      "EPOCH : 23 || MAE : 0.03905897097350574 || Within 0.1: 93/100 || Within 0.5 : 6/100\n",
      "EPOCH : 24 || MAE : 0.04021449290841857 || Within 0.1: 93/100 || Within 0.5 : 7/100\n",
      "EPOCH : 25 || MAE : 0.03987249876891377 || Within 0.1: 93/100 || Within 0.5 : 6/100\n",
      "EPOCH : 26 || MAE : 0.041028849508811784 || Within 0.1: 93/100 || Within 0.5 : 6/100\n",
      "EPOCH : 27 || MAE : 0.039305715313451506 || Within 0.1: 93/100 || Within 0.5 : 7/100\n",
      "EPOCH : 28 || MAE : 0.039214281775512026 || Within 0.1: 93/100 || Within 0.5 : 7/100\n",
      "EPOCH : 29 || MAE : 0.04199109072933158 || Within 0.1: 93/100 || Within 0.5 : 7/100\n",
      "EPOCH : 30 || MAE : 0.043106791654755026 || Within 0.1: 93/100 || Within 0.5 : 6/100\n",
      "EPOCH : 31 || MAE : 0.044048325241861336 || Within 0.1: 93/100 || Within 0.5 : 6/100\n",
      "EPOCH : 32 || MAE : 0.03988847176711099 || Within 0.1: 93/100 || Within 0.5 : 6/100\n",
      "EPOCH : 33 || MAE : 0.04011391476191446 || Within 0.1: 93/100 || Within 0.5 : 6/100\n",
      "EPOCH : 34 || MAE : 0.038867742229292256 || Within 0.1: 93/100 || Within 0.5 : 7/100\n",
      "EPOCH : 35 || MAE : 0.04202632979872392 || Within 0.1: 93/100 || Within 0.5 : 6/100\n",
      "EPOCH : 36 || MAE : 0.042586148810506846 || Within 0.1: 93/100 || Within 0.5 : 7/100\n",
      "EPOCH : 37 || MAE : 0.039416218080885176 || Within 0.1: 93/100 || Within 0.5 : 6/100\n",
      "EPOCH : 38 || MAE : 0.040371882768782986 || Within 0.1: 93/100 || Within 0.5 : 7/100\n",
      "EPOCH : 39 || MAE : 0.04158770793576145 || Within 0.1: 93/100 || Within 0.5 : 6/100\n",
      "EPOCH : 40 || MAE : 0.04189980396719961 || Within 0.1: 94/100 || Within 0.5 : 5/100\n",
      "EPOCH : 41 || MAE : 0.03971267771364876 || Within 0.1: 93/100 || Within 0.5 : 6/100\n",
      "EPOCH : 42 || MAE : 0.0402999966891625 || Within 0.1: 93/100 || Within 0.5 : 7/100\n",
      "EPOCH : 43 || MAE : 0.04187304806616951 || Within 0.1: 94/100 || Within 0.5 : 5/100\n",
      "EPOCH : 44 || MAE : 0.04096280122516165 || Within 0.1: 93/100 || Within 0.5 : 6/100\n",
      "EPOCH : 45 || MAE : 0.03859044628031163 || Within 0.1: 93/100 || Within 0.5 : 6/100\n",
      "EPOCH : 46 || MAE : 0.04023251033411391 || Within 0.1: 93/100 || Within 0.5 : 6/100\n",
      "EPOCH : 47 || MAE : 0.04108435065558199 || Within 0.1: 93/100 || Within 0.5 : 7/100\n",
      "EPOCH : 48 || MAE : 0.04357644863200736 || Within 0.1: 93/100 || Within 0.5 : 6/100\n",
      "EPOCH : 49 || MAE : 0.04078622515947687 || Within 0.1: 93/100 || Within 0.5 : 6/100\n",
      "EPOCH : 50 || MAE : 0.04288954973836343 || Within 0.1: 93/100 || Within 0.5 : 6/100\n",
      "EPOCH : 51 || MAE : 0.04000933843488019 || Within 0.1: 93/100 || Within 0.5 : 6/100\n",
      "EPOCH : 52 || MAE : 0.04191687578848775 || Within 0.1: 93/100 || Within 0.5 : 7/100\n",
      "EPOCH : 53 || MAE : 0.040753412925459497 || Within 0.1: 93/100 || Within 0.5 : 6/100\n",
      "EPOCH : 54 || MAE : 0.0425560783076487 || Within 0.1: 93/100 || Within 0.5 : 7/100\n",
      "EPOCH : 55 || MAE : 0.04307946645482928 || Within 0.1: 93/100 || Within 0.5 : 7/100\n",
      "EPOCH : 56 || MAE : 0.0418901766001516 || Within 0.1: 93/100 || Within 0.5 : 6/100\n",
      "EPOCH : 57 || MAE : 0.03961886695622883 || Within 0.1: 93/100 || Within 0.5 : 6/100\n",
      "EPOCH : 58 || MAE : 0.041483229056598174 || Within 0.1: 93/100 || Within 0.5 : 6/100\n",
      "EPOCH : 59 || MAE : 0.03917642387234108 || Within 0.1: 93/100 || Within 0.5 : 6/100\n",
      "EPOCH : 60 || MAE : 0.03923528441042638 || Within 0.1: 93/100 || Within 0.5 : 6/100\n",
      "EPOCH : 61 || MAE : 0.03916213608304584 || Within 0.1: 93/100 || Within 0.5 : 6/100\n",
      "EPOCH : 62 || MAE : 0.04035590510431031 || Within 0.1: 93/100 || Within 0.5 : 6/100\n",
      "EPOCH : 63 || MAE : 0.03867807923574878 || Within 0.1: 93/100 || Within 0.5 : 7/100\n",
      "EPOCH : 64 || MAE : 0.03884836185696339 || Within 0.1: 93/100 || Within 0.5 : 6/100\n",
      "EPOCH : 65 || MAE : 0.03877634982510928 || Within 0.1: 93/100 || Within 0.5 : 6/100\n",
      "EPOCH : 66 || MAE : 0.04058899203694934 || Within 0.1: 93/100 || Within 0.5 : 6/100\n",
      "EPOCH : 67 || MAE : 0.041097628034361226 || Within 0.1: 93/100 || Within 0.5 : 6/100\n",
      "EPOCH : 68 || MAE : 0.04065743091371873 || Within 0.1: 93/100 || Within 0.5 : 6/100\n",
      "EPOCH : 69 || MAE : 0.04012175190306179 || Within 0.1: 93/100 || Within 0.5 : 6/100\n",
      "EPOCH : 70 || MAE : 0.03952393271228908 || Within 0.1: 93/100 || Within 0.5 : 7/100\n",
      "EPOCH : 71 || MAE : 0.03952640169301038 || Within 0.1: 93/100 || Within 0.5 : 6/100\n",
      "EPOCH : 72 || MAE : 0.03950316547741989 || Within 0.1: 93/100 || Within 0.5 : 6/100\n",
      "EPOCH : 73 || MAE : 0.04070529062731834 || Within 0.1: 93/100 || Within 0.5 : 7/100\n",
      "EPOCH : 74 || MAE : 0.03981864484438614 || Within 0.1: 93/100 || Within 0.5 : 6/100\n",
      "EPOCH : 75 || MAE : 0.04076369253796603 || Within 0.1: 93/100 || Within 0.5 : 7/100\n",
      "EPOCH : 76 || MAE : 0.04009364432937769 || Within 0.1: 93/100 || Within 0.5 : 6/100\n",
      "EPOCH : 77 || MAE : 0.03969590108562801 || Within 0.1: 93/100 || Within 0.5 : 6/100\n",
      "EPOCH : 78 || MAE : 0.039986171798110724 || Within 0.1: 93/100 || Within 0.5 : 7/100\n",
      "EPOCH : 79 || MAE : 0.03918913648784517 || Within 0.1: 93/100 || Within 0.5 : 7/100\n",
      "EPOCH : 80 || MAE : 0.0425822521130647 || Within 0.1: 93/100 || Within 0.5 : 6/100\n",
      "EPOCH : 81 || MAE : 0.03898711683825648 || Within 0.1: 93/100 || Within 0.5 : 6/100\n",
      "EPOCH : 82 || MAE : 0.0383852773192899 || Within 0.1: 93/100 || Within 0.5 : 7/100\n",
      "EPOCH : 83 || MAE : 0.041534144410872005 || Within 0.1: 93/100 || Within 0.5 : 6/100\n",
      "EPOCH : 84 || MAE : 0.0395619242302818 || Within 0.1: 93/100 || Within 0.5 : 7/100\n",
      "EPOCH : 85 || MAE : 0.0386290332948161 || Within 0.1: 93/100 || Within 0.5 : 7/100\n",
      "EPOCH : 86 || MAE : 0.04129288337093398 || Within 0.1: 93/100 || Within 0.5 : 6/100\n",
      "EPOCH : 87 || MAE : 0.03991879050998545 || Within 0.1: 93/100 || Within 0.5 : 6/100\n"
     ]
    },
    {
     "ename": "KeyboardInterrupt",
     "evalue": "",
     "output_type": "error",
     "traceback": [
      "\u001b[0;31m---------------------------------------------------------------------------\u001b[0m",
      "\u001b[0;31mKeyboardInterrupt\u001b[0m                         Traceback (most recent call last)",
      "\u001b[0;32m<ipython-input-17-ef38b55b6785>\u001b[0m in \u001b[0;36m<module>\u001b[0;34m\u001b[0m\n\u001b[1;32m     18\u001b[0m \u001b[0;34m\u001b[0m\u001b[0m\n\u001b[1;32m     19\u001b[0m \u001b[0;34m\u001b[0m\u001b[0m\n\u001b[0;32m---> 20\u001b[0;31m         \u001b[0moutput\u001b[0m      \u001b[0;34m=\u001b[0m \u001b[0mpnet\u001b[0m\u001b[0;34m(\u001b[0m\u001b[0mdata\u001b[0m\u001b[0;34m)\u001b[0m\u001b[0;34m\u001b[0m\u001b[0;34m\u001b[0m\u001b[0m\n\u001b[0m\u001b[1;32m     21\u001b[0m \u001b[0;34m\u001b[0m\u001b[0m\n\u001b[1;32m     22\u001b[0m         \u001b[0mloss\u001b[0m        \u001b[0;34m=\u001b[0m \u001b[0mtorch\u001b[0m\u001b[0;34m.\u001b[0m\u001b[0msqrt\u001b[0m\u001b[0;34m(\u001b[0m\u001b[0mcriterionp1\u001b[0m\u001b[0;34m(\u001b[0m\u001b[0moutput\u001b[0m\u001b[0;34m,\u001b[0m \u001b[0mtarget\u001b[0m\u001b[0;34m)\u001b[0m\u001b[0;34m)\u001b[0m \u001b[0;34m+\u001b[0m \u001b[0;36m0.1\u001b[0m\u001b[0;34m*\u001b[0m\u001b[0mcriterionp2\u001b[0m\u001b[0;34m(\u001b[0m\u001b[0moutput\u001b[0m\u001b[0;34m,\u001b[0m \u001b[0mtarget\u001b[0m\u001b[0;34m)\u001b[0m\u001b[0;34m\u001b[0m\u001b[0;34m\u001b[0m\u001b[0m\n",
      "\u001b[0;32m~/.local/lib/python3.6/site-packages/torch/nn/modules/module.py\u001b[0m in \u001b[0;36m__call__\u001b[0;34m(self, *input, **kwargs)\u001b[0m\n\u001b[1;32m    548\u001b[0m             \u001b[0mresult\u001b[0m \u001b[0;34m=\u001b[0m \u001b[0mself\u001b[0m\u001b[0;34m.\u001b[0m\u001b[0m_slow_forward\u001b[0m\u001b[0;34m(\u001b[0m\u001b[0;34m*\u001b[0m\u001b[0minput\u001b[0m\u001b[0;34m,\u001b[0m \u001b[0;34m**\u001b[0m\u001b[0mkwargs\u001b[0m\u001b[0;34m)\u001b[0m\u001b[0;34m\u001b[0m\u001b[0;34m\u001b[0m\u001b[0m\n\u001b[1;32m    549\u001b[0m         \u001b[0;32melse\u001b[0m\u001b[0;34m:\u001b[0m\u001b[0;34m\u001b[0m\u001b[0;34m\u001b[0m\u001b[0m\n\u001b[0;32m--> 550\u001b[0;31m             \u001b[0mresult\u001b[0m \u001b[0;34m=\u001b[0m \u001b[0mself\u001b[0m\u001b[0;34m.\u001b[0m\u001b[0mforward\u001b[0m\u001b[0;34m(\u001b[0m\u001b[0;34m*\u001b[0m\u001b[0minput\u001b[0m\u001b[0;34m,\u001b[0m \u001b[0;34m**\u001b[0m\u001b[0mkwargs\u001b[0m\u001b[0;34m)\u001b[0m\u001b[0;34m\u001b[0m\u001b[0;34m\u001b[0m\u001b[0m\n\u001b[0m\u001b[1;32m    551\u001b[0m         \u001b[0;32mfor\u001b[0m \u001b[0mhook\u001b[0m \u001b[0;32min\u001b[0m \u001b[0mself\u001b[0m\u001b[0;34m.\u001b[0m\u001b[0m_forward_hooks\u001b[0m\u001b[0;34m.\u001b[0m\u001b[0mvalues\u001b[0m\u001b[0;34m(\u001b[0m\u001b[0;34m)\u001b[0m\u001b[0;34m:\u001b[0m\u001b[0;34m\u001b[0m\u001b[0;34m\u001b[0m\u001b[0m\n\u001b[1;32m    552\u001b[0m             \u001b[0mhook_result\u001b[0m \u001b[0;34m=\u001b[0m \u001b[0mhook\u001b[0m\u001b[0;34m(\u001b[0m\u001b[0mself\u001b[0m\u001b[0;34m,\u001b[0m \u001b[0minput\u001b[0m\u001b[0;34m,\u001b[0m \u001b[0mresult\u001b[0m\u001b[0;34m)\u001b[0m\u001b[0;34m\u001b[0m\u001b[0;34m\u001b[0m\u001b[0m\n",
      "\u001b[0;32m~/Approximators/loss_training/utils.py\u001b[0m in \u001b[0;36mforward\u001b[0;34m(self, state)\u001b[0m\n\u001b[1;32m    230\u001b[0m                 \u001b[0mnext_state\u001b[0m \u001b[0;34m=\u001b[0m \u001b[0mself\u001b[0m\u001b[0;34m.\u001b[0m\u001b[0mactivation\u001b[0m\u001b[0;34m(\u001b[0m\u001b[0mself\u001b[0m\u001b[0;34m.\u001b[0m\u001b[0mfc2\u001b[0m\u001b[0;34m(\u001b[0m\u001b[0mnext_state\u001b[0m\u001b[0;34m)\u001b[0m\u001b[0;34m)\u001b[0m\u001b[0;34m\u001b[0m\u001b[0;34m\u001b[0m\u001b[0m\n\u001b[1;32m    231\u001b[0m                 \u001b[0mnext_state\u001b[0m \u001b[0;34m=\u001b[0m \u001b[0mself\u001b[0m\u001b[0;34m.\u001b[0m\u001b[0mactivation\u001b[0m\u001b[0;34m(\u001b[0m\u001b[0mself\u001b[0m\u001b[0;34m.\u001b[0m\u001b[0mfc3\u001b[0m\u001b[0;34m(\u001b[0m\u001b[0mnext_state\u001b[0m\u001b[0;34m)\u001b[0m\u001b[0;34m)\u001b[0m\u001b[0;34m\u001b[0m\u001b[0;34m\u001b[0m\u001b[0m\n\u001b[0;32m--> 232\u001b[0;31m                 \u001b[0mnext_state\u001b[0m \u001b[0;34m=\u001b[0m \u001b[0mself\u001b[0m\u001b[0;34m.\u001b[0m\u001b[0mfc4\u001b[0m\u001b[0;34m(\u001b[0m\u001b[0mnext_state\u001b[0m\u001b[0;34m)\u001b[0m\u001b[0;34m\u001b[0m\u001b[0;34m\u001b[0m\u001b[0m\n\u001b[0m\u001b[1;32m    233\u001b[0m \u001b[0;34m\u001b[0m\u001b[0m\n\u001b[1;32m    234\u001b[0m                 \u001b[0;32mreturn\u001b[0m \u001b[0mnext_state\u001b[0m\u001b[0;34m\u001b[0m\u001b[0;34m\u001b[0m\u001b[0m\n",
      "\u001b[0;32m~/.local/lib/python3.6/site-packages/torch/nn/modules/module.py\u001b[0m in \u001b[0;36m__call__\u001b[0;34m(self, *input, **kwargs)\u001b[0m\n\u001b[1;32m    548\u001b[0m             \u001b[0mresult\u001b[0m \u001b[0;34m=\u001b[0m \u001b[0mself\u001b[0m\u001b[0;34m.\u001b[0m\u001b[0m_slow_forward\u001b[0m\u001b[0;34m(\u001b[0m\u001b[0;34m*\u001b[0m\u001b[0minput\u001b[0m\u001b[0;34m,\u001b[0m \u001b[0;34m**\u001b[0m\u001b[0mkwargs\u001b[0m\u001b[0;34m)\u001b[0m\u001b[0;34m\u001b[0m\u001b[0;34m\u001b[0m\u001b[0m\n\u001b[1;32m    549\u001b[0m         \u001b[0;32melse\u001b[0m\u001b[0;34m:\u001b[0m\u001b[0;34m\u001b[0m\u001b[0;34m\u001b[0m\u001b[0m\n\u001b[0;32m--> 550\u001b[0;31m             \u001b[0mresult\u001b[0m \u001b[0;34m=\u001b[0m \u001b[0mself\u001b[0m\u001b[0;34m.\u001b[0m\u001b[0mforward\u001b[0m\u001b[0;34m(\u001b[0m\u001b[0;34m*\u001b[0m\u001b[0minput\u001b[0m\u001b[0;34m,\u001b[0m \u001b[0;34m**\u001b[0m\u001b[0mkwargs\u001b[0m\u001b[0;34m)\u001b[0m\u001b[0;34m\u001b[0m\u001b[0;34m\u001b[0m\u001b[0m\n\u001b[0m\u001b[1;32m    551\u001b[0m         \u001b[0;32mfor\u001b[0m \u001b[0mhook\u001b[0m \u001b[0;32min\u001b[0m \u001b[0mself\u001b[0m\u001b[0;34m.\u001b[0m\u001b[0m_forward_hooks\u001b[0m\u001b[0;34m.\u001b[0m\u001b[0mvalues\u001b[0m\u001b[0;34m(\u001b[0m\u001b[0;34m)\u001b[0m\u001b[0;34m:\u001b[0m\u001b[0;34m\u001b[0m\u001b[0;34m\u001b[0m\u001b[0m\n\u001b[1;32m    552\u001b[0m             \u001b[0mhook_result\u001b[0m \u001b[0;34m=\u001b[0m \u001b[0mhook\u001b[0m\u001b[0;34m(\u001b[0m\u001b[0mself\u001b[0m\u001b[0;34m,\u001b[0m \u001b[0minput\u001b[0m\u001b[0;34m,\u001b[0m \u001b[0mresult\u001b[0m\u001b[0;34m)\u001b[0m\u001b[0;34m\u001b[0m\u001b[0;34m\u001b[0m\u001b[0m\n",
      "\u001b[0;32m~/.local/lib/python3.6/site-packages/torch/nn/modules/linear.py\u001b[0m in \u001b[0;36mforward\u001b[0;34m(self, input)\u001b[0m\n\u001b[1;32m     85\u001b[0m \u001b[0;34m\u001b[0m\u001b[0m\n\u001b[1;32m     86\u001b[0m     \u001b[0;32mdef\u001b[0m \u001b[0mforward\u001b[0m\u001b[0;34m(\u001b[0m\u001b[0mself\u001b[0m\u001b[0;34m,\u001b[0m \u001b[0minput\u001b[0m\u001b[0;34m)\u001b[0m\u001b[0;34m:\u001b[0m\u001b[0;34m\u001b[0m\u001b[0;34m\u001b[0m\u001b[0m\n\u001b[0;32m---> 87\u001b[0;31m         \u001b[0;32mreturn\u001b[0m \u001b[0mF\u001b[0m\u001b[0;34m.\u001b[0m\u001b[0mlinear\u001b[0m\u001b[0;34m(\u001b[0m\u001b[0minput\u001b[0m\u001b[0;34m,\u001b[0m \u001b[0mself\u001b[0m\u001b[0;34m.\u001b[0m\u001b[0mweight\u001b[0m\u001b[0;34m,\u001b[0m \u001b[0mself\u001b[0m\u001b[0;34m.\u001b[0m\u001b[0mbias\u001b[0m\u001b[0;34m)\u001b[0m\u001b[0;34m\u001b[0m\u001b[0;34m\u001b[0m\u001b[0m\n\u001b[0m\u001b[1;32m     88\u001b[0m \u001b[0;34m\u001b[0m\u001b[0m\n\u001b[1;32m     89\u001b[0m     \u001b[0;32mdef\u001b[0m \u001b[0mextra_repr\u001b[0m\u001b[0;34m(\u001b[0m\u001b[0mself\u001b[0m\u001b[0;34m)\u001b[0m\u001b[0;34m:\u001b[0m\u001b[0;34m\u001b[0m\u001b[0;34m\u001b[0m\u001b[0m\n",
      "\u001b[0;32m~/.local/lib/python3.6/site-packages/torch/nn/functional.py\u001b[0m in \u001b[0;36mlinear\u001b[0;34m(input, weight, bias)\u001b[0m\n\u001b[1;32m   1608\u001b[0m     \u001b[0;32mif\u001b[0m \u001b[0minput\u001b[0m\u001b[0;34m.\u001b[0m\u001b[0mdim\u001b[0m\u001b[0;34m(\u001b[0m\u001b[0;34m)\u001b[0m \u001b[0;34m==\u001b[0m \u001b[0;36m2\u001b[0m \u001b[0;32mand\u001b[0m \u001b[0mbias\u001b[0m \u001b[0;32mis\u001b[0m \u001b[0;32mnot\u001b[0m \u001b[0;32mNone\u001b[0m\u001b[0;34m:\u001b[0m\u001b[0;34m\u001b[0m\u001b[0;34m\u001b[0m\u001b[0m\n\u001b[1;32m   1609\u001b[0m         \u001b[0;31m# fused op is marginally faster\u001b[0m\u001b[0;34m\u001b[0m\u001b[0;34m\u001b[0m\u001b[0;34m\u001b[0m\u001b[0m\n\u001b[0;32m-> 1610\u001b[0;31m         \u001b[0mret\u001b[0m \u001b[0;34m=\u001b[0m \u001b[0mtorch\u001b[0m\u001b[0;34m.\u001b[0m\u001b[0maddmm\u001b[0m\u001b[0;34m(\u001b[0m\u001b[0mbias\u001b[0m\u001b[0;34m,\u001b[0m \u001b[0minput\u001b[0m\u001b[0;34m,\u001b[0m \u001b[0mweight\u001b[0m\u001b[0;34m.\u001b[0m\u001b[0mt\u001b[0m\u001b[0;34m(\u001b[0m\u001b[0;34m)\u001b[0m\u001b[0;34m)\u001b[0m\u001b[0;34m\u001b[0m\u001b[0;34m\u001b[0m\u001b[0m\n\u001b[0m\u001b[1;32m   1611\u001b[0m     \u001b[0;32melse\u001b[0m\u001b[0;34m:\u001b[0m\u001b[0;34m\u001b[0m\u001b[0;34m\u001b[0m\u001b[0m\n\u001b[1;32m   1612\u001b[0m         \u001b[0moutput\u001b[0m \u001b[0;34m=\u001b[0m \u001b[0minput\u001b[0m\u001b[0;34m.\u001b[0m\u001b[0mmatmul\u001b[0m\u001b[0;34m(\u001b[0m\u001b[0mweight\u001b[0m\u001b[0;34m.\u001b[0m\u001b[0mt\u001b[0m\u001b[0;34m(\u001b[0m\u001b[0;34m)\u001b[0m\u001b[0;34m)\u001b[0m\u001b[0;34m\u001b[0m\u001b[0;34m\u001b[0m\u001b[0m\n",
      "\u001b[0;31mKeyboardInterrupt\u001b[0m: "
     ]
    }
   ],
   "source": [
    "p_dataset = torch.utils.data.TensorDataset(p_xtrain, p_ytrain)\n",
    "p_dataloader = torch.utils.data.DataLoader(p_dataset, batch_size = 64, shuffle=True)\n",
    "\n",
    "#......  CRITERIA\n",
    "criterionp1 = torch.nn.MSELoss(reduction='mean')\n",
    "criterionp2 = torch.nn.L1Loss(reduction='sum')\n",
    "\n",
    "\n",
    "#.......  OPTIMIZER\n",
    "\n",
    "popt = torch.optim.Adam(pnet.parameters(), lr = LR, betas=[0.5, 0.9], weight_decay=DECAY)\n",
    "\n",
    "for epoch in range(EPOCHS):\n",
    "    for data, target in p_dataloader:\n",
    "        pnet.train()\n",
    "        popt.zero_grad()\n",
    "\n",
    "\n",
    "        \n",
    "        output      = pnet(data)\n",
    "        \n",
    "        loss        = torch.sqrt(criterionp1(output, target)) \n",
    "        \n",
    "        loss.backward()\n",
    "        popt.step()\n",
    "\n",
    "    # Validation\n",
    "    acc = 0\n",
    "    acc2 = 0\n",
    "    pred = pnet(p_xtest)\n",
    "    mae = torch.mean(torch.abs(pred - p_ytest))\n",
    "    for i in range(len(p_xtest)):\n",
    "        p_xtest[i].resize_(1, 3)\n",
    "        pred = pnet(p_xtest[i]).detach().numpy()\n",
    "        if np.mean(np.abs(pred - p_ytest[i].numpy())) < 0.1:\n",
    "            acc += 1\n",
    "        elif np.mean(np.abs(pred - p_ytest[i].numpy())) < 0.5:\n",
    "            acc2 += 1\n",
    "    print(f\"EPOCH : {epoch} || MAE : {mae} || Within 0.1: {acc}/{len(p_xtest)} || Within 0.5 : {acc2}/{len(p_xtest)}\")\n",
    "    \n",
    "        "
   ]
  },
  {
   "cell_type": "code",
   "execution_count": 19,
   "metadata": {},
   "outputs": [],
   "source": [
    "vnet = torch.load(\"lossNet.pth\")"
   ]
  },
  {
   "cell_type": "code",
   "execution_count": 79,
   "metadata": {},
   "outputs": [
    {
     "data": {
      "text/plain": [
       "<Figure size 432x288 with 0 Axes>"
      ]
     },
     "metadata": {},
     "output_type": "display_data"
    },
    {
     "data": {
      "image/png": "[encoded data removed]",
      "text/plain": [
       "<Figure size 576x432 with 2 Axes>"
      ]
     },
     "metadata": {
      "needs_background": "light"
     },
     "output_type": "display_data"
    }
   ],
   "source": [
    "x  = [np.random.uniform(-1.5,1.5), np.random.uniform(-1.5,1.5), np.random.uniform(-np.pi/4, np.pi/4)]\n",
    "np.round_(x, 4)\n",
    "\n",
    "x1 = torch.Tensor(x)\n",
    "guess = pnet.guess_xs(x1,30)\n",
    "\n",
    "#... Coldstarted crocoddyl\n",
    "x0 = np.array(x)\n",
    "model               = crocoddyl.ActionModelUnicycle()\n",
    "t_model = TerminalModelUnicycle()\n",
    "model.costWeights   = np.array([1.,1.]).T\n",
    "problem             = crocoddyl.ShootingProblem(x0.T, [model]*30, t_model)\n",
    "ddp1                 = crocoddyl.SolverDDP(problem)\n",
    "log1                 = crocoddyl.CallbackLogger()\n",
    "ddp1.setCallbacks([log1])\n",
    "ddp1.solve([], [], 1000)\n",
    "stops1 = log1.stops[1:]\n",
    "xs1 = np.array(ddp1.xs)\n",
    "\n",
    "\n",
    "model2               = crocoddyl.ActionModelUnicycle()\n",
    "t_model2 = TerminalNetworkUnicycle(vnet)\n",
    "model.costWeights   = np.array([1.,1.]).T\n",
    "problem2            = crocoddyl.ShootingProblem(x0.T, [model]*30, t_model2)\n",
    "ddp2                 = crocoddyl.SolverDDP(problem2)\n",
    "log2                 = crocoddyl.CallbackLogger()\n",
    "ddp2.setCallbacks([log2])\n",
    "ddp2.solve(guess, [], 1000)\n",
    "stops2 = log2.stops[1:]\n",
    "xs2 = np.array(ddp2.xs)\n",
    "\n",
    "\n",
    "\n",
    "plt.clf()\n",
    "fig, (axs1,axs2) = plt.subplots(2, figsize=(8,6))\n",
    "\n",
    "\n",
    "axs1.plot(xs1[:,0], xs1[:,1], c = 'blue', label= \" Coldstarted\")\n",
    "axs1.plot(xs2[:,0], xs2[:,1], c = 'grey', label= \" Warmstarted\")\n",
    "axs1.plot(guess[:,0], guess[:,1], c = 'red', label = \"Guess\")\n",
    "axs1.set_xlim([-1.5, 1.5])\n",
    "axs1.set_ylim([-1.5, 1.5])\n",
    "#axs1.axis(\"off\")\n",
    "axs2.plot(stops1, '--*', label = \"Coldstarted\")\n",
    "axs2.plot(stops2, '--+', label = \"Warmstarted\")\n",
    "axs2.set_ylabel(\"Stopping Criteria\")\n",
    "axs2.set_xlabel(\"Iterations\")\n",
    "axs1.legend()\n",
    "axs2.legend()\n",
    "plt.savefig(\"k.png\")\n",
    "plt.show()"
   ]
  },
  {
   "cell_type": "code",
   "execution_count": 62,
   "metadata": {},
   "outputs": [
    {
     "data": {
      "text/plain": [
       "<Figure size 432x288 with 0 Axes>"
      ]
     },
     "metadata": {},
     "output_type": "display_data"
    },
    {
     "data": {
      "image/png": "[encoded data removed]",
      "text/plain": [
       "<Figure size 576x432 with 1 Axes>"
      ]
     },
     "metadata": {
      "needs_background": "light"
     },
     "output_type": "display_data"
    }
   ],
   "source": [
    "#x = [0.905297816719548, 0.6065832831393063, -0.6691245714742096]\n",
    "x = [-1.532432123432, 1.3242342312315124521345,1.5566666666]\n",
    "#np.round_(x, 4)\n",
    "\n",
    "x1 = torch.Tensor(x)\n",
    "guess = pnet.guess_xs(x1,30)\n",
    "\n",
    "#... Coldstarted crocoddyl\n",
    "x0 = np.array(x)\n",
    "model               = crocoddyl.ActionModelUnicycle()\n",
    "t_model = TerminalModelUnicycle()\n",
    "model.costWeights   = np.array([1.,1.]).T\n",
    "problem             = crocoddyl.ShootingProblem(x0.T, [model]*30, t_model)\n",
    "ddp1                 = crocoddyl.SolverDDP(problem)\n",
    "log1                 = crocoddyl.CallbackLogger()\n",
    "ddp1.setCallbacks([log1])\n",
    "ddp1.solve([], [], 1000)\n",
    "stops1 = log1.stops[1:]\n",
    "xs1 = np.array(ddp1.xs)\n",
    "\n",
    "\n",
    "model2               = crocoddyl.ActionModelUnicycle()\n",
    "t_model2 = TerminalNetworkUnicycle(vnet)\n",
    "model.costWeights   = np.array([1.,1.]).T\n",
    "problem2            = crocoddyl.ShootingProblem(x0.T, [model]*30, t_model2)\n",
    "ddp2                 = crocoddyl.SolverDDP(problem2)\n",
    "log2                 = crocoddyl.CallbackLogger()\n",
    "ddp2.setCallbacks([log2])\n",
    "ddp2.solve(guess, [], 1000)\n",
    "stops2 = log2.stops[1:]\n",
    "xs2 = np.array(ddp2.xs)\n",
    "\n",
    "\n",
    "\n",
    "plt.clf()\n",
    "fig, axs2 = plt.subplots(1, figsize=(8,6))\n",
    "\n",
    "\n",
    "#axs1.plot(xs1[:,0], xs1[:,1], c = 'blue', label= \" Warmstarted\")\n",
    "#axs1.plot(xs2[:,0], xs2[:,1], c = 'grey', label= \" Coldstarted\")\n",
    "#axs1.plot(guess[:,0], guess[:,1], c = 'red', label = \"Guess\")\n",
    "#axs1.set_xlim([-1.5, 1.5])\n",
    "#axs1.set_ylim([-1.5, 1.5])\n",
    "#axs1.axis(\"off\")\n",
    "axs2.plot(stops1, '--*', label = \"Coldstarted\")\n",
    "axs2.plot(stops2, '--+', label = \"Warmstarted\")\n",
    "axs2.set_ylabel(\"Stopping Criteria\")\n",
    "axs2.set_xlabel(\"Iterations\")\n",
    "#axs1.legend()\n",
    "axs2.legend()\n",
    "#plt.savefig(\"Warmstarted3.png\")\n",
    "plt.show()"
   ]
  },
  {
   "cell_type": "code",
   "execution_count": null,
   "metadata": {},
   "outputs": [],
   "source": []
  }
 ],
 "metadata": {
  "kernelspec": {
   "display_name": "Python 3",
   "language": "python",
   "name": "python3"
  },
  "language_info": {
   "codemirror_mode": {
    "name": "ipython",
    "version": 3
   },
   "file_extension": ".py",
   "mimetype": "text/x-python",
   "name": "python",
   "nbconvert_exporter": "python",
   "pygments_lexer": "ipython3",
   "version": "3.6.9"
  }
 },
 "nbformat": 4,
 "nbformat_minor": 4
}
