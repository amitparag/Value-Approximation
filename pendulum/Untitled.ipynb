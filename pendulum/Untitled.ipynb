{
 "cells": [
  {
   "cell_type": "code",
   "execution_count": 1,
   "metadata": {},
   "outputs": [],
   "source": [
    "\"\"\"\n",
    "Solve a double problem with crocoddyl and return fddp\n",
    "\"\"\"\n",
    "\n",
    "import crocoddyl\n",
    "import numpy as np\n",
    "import torch\n",
    "import example_robot_data\n",
    "from crocoddyl.utils.pendulum import CostModelDoublePendulum, ActuationModelDoublePendulum\n",
    "\n",
    "def solve_problem(terminal_model = None,\n",
    "                  initial_configuration = None,\n",
    "                  horizon:int = 100,\n",
    "                  precision:float = 1e-9,\n",
    "                  maxiters:int = 1000):\n",
    "    \n",
    "    \n",
    "    \"\"\"\n",
    "    Solve the problem for a given initial_position.\n",
    "    \n",
    "    @params:\n",
    "        1: terminal_model    = Terminal model with neural network inside it, for the crocoddyl problem.\n",
    "                               If none, then Crocoddyl Integrated Action Model will be used as terminal model.\n",
    "        \n",
    "        2: initial_configuration = initial position for the unicycle, \n",
    "                                    either a list or a numpy array or a tensor.\n",
    "        \n",
    "        3: horizon           = Time horizon for the unicycle. Defaults to 100\n",
    "        \n",
    "        4: stop              = ddp.th_stop. Defaults to 1e-9\n",
    "        \n",
    "        5: maxiters          = maximum iterations allowed for crocoddyl.Defaults to 1000\n",
    "\n",
    "        \n",
    "    @returns:\n",
    "        ddp\n",
    "    \"\"\"\n",
    "    \n",
    "    if isinstance(initial_configuration, list):\n",
    "        initial_configuration = np.array(initial_configuration)    \n",
    "    \n",
    "    elif isinstance(initial_configuration, torch.Tensor):\n",
    "        initial_configuration = initial_configuration.numpy()\n",
    "        \n",
    "        \n",
    "\n",
    "    # Loading the double pendulum model\n",
    "    robot = example_robot_data.loadDoublePendulum()\n",
    "    robot_model = robot.model\n",
    "\n",
    "    state = crocoddyl.StateMultibody(robot_model)\n",
    "    actModel = ActuationModelDoublePendulum(state, actLink=1)\n",
    "\n",
    "    weights = np.array([1, 1, 1, 1] + [0.1] * 2)\n",
    "    runningCostModel = crocoddyl.CostModelSum(state, actModel.nu)\n",
    "    xRegCost = crocoddyl.CostModelState(state, \n",
    "                                        crocoddyl.ActivationModelQuad(state.ndx),\n",
    "                                        state.zero(),\n",
    "                                        actModel.nu)\n",
    "    \n",
    "    uRegCost = crocoddyl.CostModelControl(state, \n",
    "                                          crocoddyl.ActivationModelQuad(1),\n",
    "                                          actModel.nu)\n",
    "    \n",
    "    xPendCost = CostModelDoublePendulum(state, \n",
    "                                        crocoddyl.ActivationModelWeightedQuad(np.matrix(weights).T),\n",
    "                                        actModel.nu)\n",
    "\n",
    "    dt = 1e-2\n",
    "\n",
    "    runningCostModel.addCost(\"uReg\", uRegCost, 1e-4 / dt)\n",
    "    runningCostModel.addCost(\"xGoal\", xPendCost, 1e-5 / dt)\n",
    "\n",
    "\n",
    "    runningModel = crocoddyl.IntegratedActionModelEuler(\n",
    "        crocoddyl.DifferentialActionModelFreeFwdDynamics(state, actModel, runningCostModel), dt)\n",
    "    \n",
    "    if terminal_model is None:\n",
    "        terminalCostModel = crocoddyl.CostModelSum(state, actModel.nu)\n",
    "        terminalCostModel.addCost(\"xGoal\", xPendCost, 1e4)\n",
    "        terminal_model = crocoddyl.IntegratedActionModelEuler(\n",
    "            crocoddyl.DifferentialActionModelFreeFwdDynamics(state, actModel, terminalCostModel), dt)\n",
    "        \n",
    "    # Creating the shooting problem and the FDDP solver\n",
    "    problem = crocoddyl.ShootingProblem(initial_configuration.T, [runningModel] * horizon, terminal_model)\n",
    "    \n",
    "    fddp = crocoddyl.SolverFDDP(problem)\n",
    "    \n",
    "    fddp.th_stop = precision\n",
    "    \n",
    "    fddp.solve([], [], maxiters)\n",
    "\n",
    "    return [fddp.cost]\n",
    "    \n",
    "        "
   ]
  },
  {
   "cell_type": "code",
   "execution_count": 2,
   "metadata": {},
   "outputs": [],
   "source": [
    "from multiprocessing import Pool\n",
    "from datagen import Datagen\n"
   ]
  },
  {
   "cell_type": "code",
   "execution_count": 3,
   "metadata": {},
   "outputs": [
    {
     "name": "stdout",
     "output_type": "stream",
     "text": [
      "Sampling:\n",
      " \n",
      "theta1 from [-6.283185307179586, 6.283185307179586]\n",
      "theta2 from [-6.283185307179586, 6.283185307179586]\n",
      "vel1   from [-1.0, 1.0]\n",
      "vel2   from [-1.0, 1.0]\n"
     ]
    }
   ],
   "source": [
    "random_data = Datagen.random_starting_conditions(500)"
   ]
  },
  {
   "cell_type": "code",
   "execution_count": 7,
   "metadata": {},
   "outputs": [
    {
     "ename": "NameError",
     "evalue": "name 'initial_configuration' is not defined",
     "output_type": "error",
     "traceback": [
      "\u001b[0;31m---------------------------------------------------------------------------\u001b[0m",
      "\u001b[0;31mNameError\u001b[0m                                 Traceback (most recent call last)",
      "\u001b[0;32m<ipython-input-7-065c7ecd08df>\u001b[0m in \u001b[0;36m<module>\u001b[0;34m()\u001b[0m\n\u001b[1;32m      1\u001b[0m \u001b[0;32mwith\u001b[0m \u001b[0mPool\u001b[0m\u001b[0;34m(\u001b[0m\u001b[0;36m5\u001b[0m\u001b[0;34m)\u001b[0m \u001b[0;32mas\u001b[0m \u001b[0mp\u001b[0m\u001b[0;34m:\u001b[0m\u001b[0;34m\u001b[0m\u001b[0;34m\u001b[0m\u001b[0m\n\u001b[0;32m----> 2\u001b[0;31m         \u001b[0mprint\u001b[0m\u001b[0;34m(\u001b[0m\u001b[0mp\u001b[0m\u001b[0;34m.\u001b[0m\u001b[0mmap\u001b[0m\u001b[0;34m(\u001b[0m\u001b[0msolve_problem\u001b[0m\u001b[0;34m(\u001b[0m\u001b[0minitial_configuration\u001b[0m\u001b[0;34m)\u001b[0m\u001b[0;34m,\u001b[0m \u001b[0;34m(\u001b[0m\u001b[0mi\u001b[0m \u001b[0;32mfor\u001b[0m \u001b[0mi\u001b[0m \u001b[0;32min\u001b[0m \u001b[0mrandom_data\u001b[0m\u001b[0;34m)\u001b[0m\u001b[0;34m)\u001b[0m\u001b[0;34m)\u001b[0m\u001b[0;34m\u001b[0m\u001b[0;34m\u001b[0m\u001b[0m\n\u001b[0m",
      "\u001b[0;31mNameError\u001b[0m: name 'initial_configuration' is not defined"
     ]
    }
   ],
   "source": [
    "with Pool(5) as p:\n",
    "        print(p.map(solve_problem(initial_configuration), (i for i in random_data)))"
   ]
  },
  {
   "cell_type": "code",
   "execution_count": null,
   "metadata": {},
   "outputs": [],
   "source": []
  }
 ],
 "metadata": {
  "kernelspec": {
   "display_name": "Python 3",
   "language": "python",
   "name": "python3"
  },
  "language_info": {
   "codemirror_mode": {
    "name": "ipython",
    "version": 3
   },
   "file_extension": ".py",
   "mimetype": "text/x-python",
   "name": "python",
   "nbconvert_exporter": "python",
   "pygments_lexer": "ipython3",
   "version": "3.6.9"
  }
 },
 "nbformat": 4,
 "nbformat_minor": 2
}
