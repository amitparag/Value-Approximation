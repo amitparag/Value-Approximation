{
 "cells": [
  {
   "cell_type": "code",
   "execution_count": 1,
   "metadata": {},
   "outputs": [],
   "source": [
    "%load_ext autoreload\n",
    "%autoreload 2"
   ]
  },
  {
   "cell_type": "code",
   "execution_count": 2,
   "metadata": {},
   "outputs": [],
   "source": [
    "import pinocchio\n",
    "from tqdm import tqdm\n",
    "import numpy as np\n",
    "import torch\n",
    "import crocoddyl\n",
    "from terminal_pendulum import feedForwardPendulum\n",
    "from feed_forward_net import FeedForwardNet\n",
    "from datagen import Datagen\n",
    "from ddp_solver import solve_problem\n",
    "import example_robot_data\n",
    "from crocoddyl.utils.pendulum import CostModelDoublePendulum, ActuationModelDoublePendulum\n",
    "import matplotlib.pyplot as plt\n",
    "%matplotlib inline"
   ]
  },
  {
   "cell_type": "code",
   "execution_count": 4,
   "metadata": {},
   "outputs": [
    {
     "name": "stdout",
     "output_type": "stream",
     "text": [
      "Sampling:\n",
      " \n",
      "theta1 from [-3.141592653589793, 3.141592653589793]\n",
      "theta2 from [-3.141592653589793, 3.141592653589793]\n",
      "vel1   from [-1.0, 1.0]\n",
      "vel2   from [-1.0, 1.0]\n"
     ]
    },
    {
     "name": "stderr",
     "output_type": "stream",
     "text": [
      "100%|██████████| 1000/1000 [07:23<00:00,  2.25it/s]\n"
     ]
    }
   ],
   "source": [
    "init_cond = Datagen.random_starting_conditions(size = 100, angle1_lim=[-np.pi, np.pi], angle2_lim=[-np.pi, np.pi])\n",
    "x, y = Datagen.values(init_conditions=init_cond, horizon=200)\n",
    "\n",
    "xtrain, ytrain = torch.Tensor(x), torch.Tensor(y.reshape(-1, 1))\n",
    "\n",
    "net = FeedForwardNet(input_dims=4, fc1_dims=256, fc2_dims=64)\n",
    "\n",
    "dataset = torch.utils.data.TensorDataset(xtrain, ytrain)\n",
    "dataloader = torch.utils.data.DataLoader(dataset, batch_size = 128, shuffle = True)\n",
    "\n",
    "criterion = torch.nn.MSELoss(reduction='sum')\n",
    "optimizer = torch.optim.Adam(net.parameters(), lr = 1e-3)  \n",
    "\n",
    "\n",
    "net.float()\n",
    "net.train()\n",
    "\n",
    "for epoch in tqdm(range(1000)):        \n",
    "    for data, target in dataloader: \n",
    "\n",
    "        output = net(data)\n",
    "        loss = criterion(output, target)\n",
    "\n",
    "        optimizer.zero_grad()\n",
    "        loss.backward()\n",
    "        optimizer.step()"
   ]
  },
  {
   "cell_type": "code",
   "execution_count": null,
   "metadata": {},
   "outputs": [],
   "source": []
  },
  {
   "cell_type": "code",
   "execution_count": 6,
   "metadata": {},
   "outputs": [
    {
     "name": "stdout",
     "output_type": "stream",
     "text": [
      "Sampling:\n",
      " \n",
      "theta1 from [-1, 1]\n",
      "theta2 from [-1, -1]\n",
      "vel1   from [-1.0, 1.0]\n",
      "vel2   from [-1.0, 1.0]\n",
      " Mean Error: 0.053752344101667404\n"
     ]
    }
   ],
   "source": [
    "# Validation\n",
    "\n",
    "\n",
    "def validate(net):\n",
    "    \n",
    "    init_conds = Datagen.random_starting_conditions(100,  angle1_lim=[-1, 1], angle2_lim=[-1, -1])\n",
    "    xt, yt = Datagen.values(init_conditions=init_conds, horizon=200)\n",
    "    xt, yt = torch.Tensor(xt), torch.Tensor(yt)\n",
    "    yp = net(xt)\n",
    "    e = yp - yt\n",
    "\n",
    "    print(f\" Mean Error: {torch.mean(e)}\")\n",
    "    \n",
    "validate(net)"
   ]
  },
  {
   "cell_type": "code",
   "execution_count": 7,
   "metadata": {},
   "outputs": [],
   "source": [
    "torch.save(net, \"net.pth\")"
   ]
  },
  {
   "cell_type": "code",
   "execution_count": 8,
   "metadata": {},
   "outputs": [],
   "source": [
    "\n",
    "\n",
    "class terminalPendulum(crocoddyl.ActionModelAbstract):\n",
    "    \"\"\"\n",
    "    This includes a feedforward network in crocoddyl\n",
    "    \n",
    "    \"\"\"\n",
    "    def __init__(self, neural_net, robot):\n",
    "        crocoddyl.ActionModelAbstract.__init__(self,\n",
    "                                               crocoddyl.StateMultibody(robot),\n",
    "                                               0,0)\n",
    "        \n",
    "        self.net = neural_net\n",
    "\n",
    "    def calc(self, data, x, u=None):\n",
    "        if u is None:\n",
    "            u = self.unone\n",
    "            \n",
    "        x = torch.tensor(x, dtype = torch.float32).resize_(1, 4)\n",
    "        \n",
    "        # Get the cost\n",
    "        with torch.no_grad():\n",
    "            data.cost = self.net(x).item()\n",
    "            \n",
    "    def calcDiff(self, data, x, u=None):\n",
    "        if u is None:\n",
    "            u = self.unone\n",
    "            \n",
    "        # This is irritating. Converting numpy to torch everytime.\n",
    "        x = torch.tensor(x, dtype = torch.float32).resize_(1, 4)\n",
    "        \n",
    "        data.Lx = self.net.jacobian(x).detach().numpy()\n",
    "        data.Lxx = self.net.hessian(x).detach().numpy()\n",
    "        \n",
    "        \n",
    "\n",
    "\n",
    "def solution(net, initial_configuration):\n",
    "    \n",
    "\n",
    "\n",
    "    robot = example_robot_data.loadDoublePendulum()\n",
    "    robot_model = robot.model\n",
    "\n",
    "    state = crocoddyl.StateMultibody(robot_model)\n",
    "    actModel = ActuationModelDoublePendulum(state, actLink=1)\n",
    "\n",
    "    weights = np.array([1, 1, 1, 1] + [0.1] * 2)\n",
    "    runningCostModel = crocoddyl.CostModelSum(state, actModel.nu)\n",
    "    xRegCost = crocoddyl.CostModelState(state, \n",
    "                                        crocoddyl.ActivationModelQuad(state.ndx),\n",
    "                                        state.zero(),\n",
    "                                        actModel.nu)\n",
    "\n",
    "    uRegCost = crocoddyl.CostModelControl(state, \n",
    "                                          crocoddyl.ActivationModelQuad(1),\n",
    "                                          actModel.nu)\n",
    "\n",
    "    xPendCost = CostModelDoublePendulum(state, \n",
    "                                        crocoddyl.ActivationModelWeightedQuad(np.matrix(weights).T),\n",
    "                                        actModel.nu)\n",
    "\n",
    "    dt = 1e-2\n",
    "\n",
    "    runningCostModel.addCost(\"uReg\", uRegCost, 1e-4 / dt)\n",
    "    runningCostModel.addCost(\"xGoal\", xPendCost, 1e-5 / dt)\n",
    "\n",
    "\n",
    "    runningModel = crocoddyl.IntegratedActionModelEuler(\n",
    "        crocoddyl.DifferentialActionModelFreeFwdDynamics(state, actModel, runningCostModel), dt)\n",
    "\n",
    "\n",
    "    terminalModel = terminalPendulum(net, robot_model)\n",
    "    # Creating the shooting problem and the FDDP solver\n",
    "    problem = crocoddyl.ShootingProblem(initial_configuration.T, [runningModel] * 200, terminalModel)\n",
    "\n",
    "    fddp = crocoddyl.SolverDDP(problem)\n",
    "    fddp.solve([], [],1000)\n",
    "    fddp.th_stop = 1e-6\n",
    "    return fddp\n",
    "\n",
    "\n",
    "\n",
    "def solution_true(x0):\n",
    "    robot = example_robot_data.loadDoublePendulum()\n",
    "    robot_model = robot.model\n",
    "\n",
    "    state = crocoddyl.StateMultibody(robot_model)\n",
    "    actModel = ActuationModelDoublePendulum(state, actLink=1)\n",
    "\n",
    "    weights = np.array([1, 1, 1, 1] + [0.1] * 2)\n",
    "    runningCostModel = crocoddyl.CostModelSum(state, actModel.nu)\n",
    "    terminalCostModel = crocoddyl.CostModelSum(state, actModel.nu)\n",
    "    xRegCost = crocoddyl.CostModelState(state, crocoddyl.ActivationModelQuad(state.ndx), state.zero(), actModel.nu)\n",
    "    uRegCost = crocoddyl.CostModelControl(state, crocoddyl.ActivationModelQuad(1), actModel.nu)\n",
    "    xPendCost = CostModelDoublePendulum(state, crocoddyl.ActivationModelWeightedQuad(weights), actModel.nu)\n",
    "\n",
    "    dt = 1e-2\n",
    "\n",
    "    runningCostModel.addCost(\"uReg\", uRegCost, 1e-4 / dt)\n",
    "    runningCostModel.addCost(\"xGoal\", xPendCost, 1e-5 / dt)\n",
    "    terminalCostModel.addCost(\"xGoal\", xPendCost, 1e4)\n",
    "\n",
    "    runningModel = crocoddyl.IntegratedActionModelEuler(\n",
    "        crocoddyl.DifferentialActionModelFreeFwdDynamics(state, actModel, runningCostModel), dt)\n",
    "    terminalModel = crocoddyl.IntegratedActionModelEuler(\n",
    "        crocoddyl.DifferentialActionModelFreeFwdDynamics(state, actModel, terminalCostModel), dt)\n",
    "\n",
    "    # Creating the shooting problem and the FDDP solver\n",
    "    T = 200\n",
    "    problem = crocoddyl.ShootingProblem(x0, [runningModel] * T, terminalModel)\n",
    "    fddp = crocoddyl.SolverDDP(problem)\n",
    "    fddp.solve([], [],1000)\n",
    "    \n",
    "    return fddp\n",
    "\n"
   ]
  },
  {
   "cell_type": "code",
   "execution_count": 9,
   "metadata": {},
   "outputs": [],
   "source": [
    "\n",
    "x0 = np.array([-3.14, - 3.14, 0, 0])\n",
    "\n",
    "\n",
    "fddp_p = solution(net, x0)\n",
    "\n",
    "fddp_t = solution_true(x0)\n",
    "\n",
    "xs_p=np.array(fddp_p.xs)\n",
    "xs_t=np.array(fddp_t.xs)\n"
   ]
  },
  {
   "cell_type": "code",
   "execution_count": 10,
   "metadata": {},
   "outputs": [
    {
     "data": {
      "image/png": "[encoded data removed]",
      "text/plain": [
       "<Figure size 432x288 with 1 Axes>"
      ]
     },
     "metadata": {
      "needs_background": "light"
     },
     "output_type": "display_data"
    }
   ],
   "source": [
    "\n",
    "plt.clf()\n",
    "plt.plot(xs_p[:,0], xs_p[:,1], c='grey', label=\"Predicted\")\n",
    "plt.plot(xs_t[:,0], xs_t[:,1], c='lightblue', label = \"True\")\n",
    "plt.show()\n"
   ]
  },
  {
   "cell_type": "code",
   "execution_count": null,
   "metadata": {},
   "outputs": [],
   "source": [
    "xs_t"
   ]
  },
  {
   "cell_type": "code",
   "execution_count": null,
   "metadata": {},
   "outputs": [],
   "source": []
  }
 ],
 "metadata": {
  "kernelspec": {
   "display_name": "Python 3",
   "language": "python",
   "name": "python3"
  },
  "language_info": {
   "codemirror_mode": {
    "name": "ipython",
    "version": 3
   },
   "file_extension": ".py",
   "mimetype": "text/x-python",
   "name": "python",
   "nbconvert_exporter": "python",
   "pygments_lexer": "ipython3",
   "version": "3.6.9"
  }
 },
 "nbformat": 4,
 "nbformat_minor": 4
}
