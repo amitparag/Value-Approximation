{
 "cells": [
  {
   "cell_type": "code",
   "execution_count": 1,
   "metadata": {},
   "outputs": [],
   "source": [
    "from utils import *\n",
    "from terminal_models import FeedforwardUnicycle\n",
    "from feedforward_network import FeedForwardNet\n",
    "import torch\n",
    "import matplotlib.pyplot as plt"
   ]
  },
  {
   "cell_type": "code",
   "execution_count": 2,
   "metadata": {},
   "outputs": [],
   "source": [
    "net0 = torch.load('./nets/net0.pth')\n",
    "net1 = torch.load('./nets/net1.pth')\n",
    "net2 = torch.load('./nets/net2.pth')\n",
    "net3 = torch.load('./nets/net3.pth')\n",
    "net4 = torch.load('./nets/net4.pth')\n",
    "net5 = torch.load('./nets/net5.pth')\n",
    "net6 = torch.load('./nets/net6.pth')\n",
    "net7 = torch.load('./nets/net7.pth')\n",
    "net8 = torch.load('./nets/net8.pth')\n",
    "net9 = torch.load('./nets/net9.pth')\n",
    "\n"
   ]
  },
  {
   "cell_type": "code",
   "execution_count": 3,
   "metadata": {},
   "outputs": [],
   "source": [
    "def validation(net):\n",
    "    data = random_positions(size = 50, xlim=[-2.,2.], ylim=[-2., 2.],zlim=[-np.pi, np.pi], as_tensor=False)\n",
    "\n",
    "    states, values = statesValues(init_positions=data, as_tensor=True)\n",
    "    with torch.no_grad():\n",
    "        values_p = net(states).detach().numpy().reshape(-1,1)\n",
    "    values = values.numpy().reshape(-1, 1)\n",
    "    mean_error = np.abs(np.mean(values_p - values))\n",
    "    print(f\"Mean Error : {np.abs(np.mean(values_p - values))}\")\n",
    "    return mean_error\n",
    "\n",
    "def validation_(net):\n",
    "    data = grid_data(size=50,theta_lims=[-np.pi, np.pi], as_tensor=False)\n",
    "    states, values = statesValues(init_positions=data, as_tensor=True)\n",
    "    with torch.no_grad():\n",
    "        values_p = net(states).detach().numpy().reshape(-1,1)\n",
    "    values = values.numpy().reshape(-1, 1)\n",
    "    mean_error = np.abs(np.mean(values_p - values))\n",
    "    print(f\"Mean Error : {np.abs(np.mean(values_p - values))}\")\n",
    "    return mean_error\n"
   ]
  },
  {
   "cell_type": "code",
   "execution_count": 6,
   "metadata": {
    "tags": []
   },
   "outputs": [
    {
     "data": {
      "text/plain": [
       "<Figure size 432x288 with 0 Axes>"
      ]
     },
     "metadata": {},
     "output_type": "display_data"
    },
    {
     "data": {
      "image/png": "[encoded data removed]",
      "text/plain": [
       "<Figure size 432x432 with 1 Axes>"
      ]
     },
     "metadata": {
      "needs_background": "light"
     },
     "output_type": "display_data"
    }
   ],
   "source": [
    "# Plot trajectories from the same point.\n",
    "\n",
    "\n",
    "\n",
    "plt.clf()\n",
    "fig, ax = plt.subplots(figsize=(6,6))\n",
    "\n",
    "neural_nets = [net0, net1, net2, net3, net4, \n",
    "              net5,net6, net7, net8,\n",
    "              net9]\n",
    "\n",
    "\n",
    "\n",
    "\n",
    "for neural_net in neural_nets:\n",
    "    position = np.array([-1., -1., 0])\n",
    "    terminal_model = FeedforwardUnicycle(neural_net)\n",
    "    ddp = solve_problem(initial_configuration=position,\n",
    "                       terminal_model=terminal_model,\n",
    "                       precision=1e-6)\n",
    "    \n",
    "    xs_ = np.array(ddp.xs)\n",
    "    xs  = xs_[:,0:2]\n",
    "\n",
    "    ax.plot(xs[:,0], xs[:,1])\n",
    "\n",
    "# Plot crocoddyl\n",
    "position = np.array([-1., -1., 0])\n",
    "ddp = solve_problem(initial_configuration=position, terminal_model=None, precision=1e-9, maxiters=1000)\n",
    "\n",
    "ddp_xs = np.array(ddp.xs)\n",
    "ax.plot(ddp_xs[:,0], ddp_xs[:,1], c = 'red',linewidth=2.0, label = 'Crocoddyl')\n",
    "\n",
    "ax.legend()    \n",
    "ax.set_xticks(np.arange(-1., 1.5, step=0.5))\n",
    "ax.set_yticks(np.arange(-1., 1.5, step=0.5))\n",
    "#ax.grid()\n",
    "ax.set_xlabel(\"X positions\")\n",
    "ax.set_ylabel(\"Y positions\")\n",
    "ax.set_title(\"Trajectories predicted using Value Approximators.\")\n",
    "plt.savefig(\"trajc.png\")\n",
    "plt.show()\n"
   ]
  },
  {
   "cell_type": "code",
   "execution_count": null,
   "metadata": {},
   "outputs": [],
   "source": [
    "def get_net_values(net, grid_points):\n",
    "    states = torch.tensor(grid_points, dtype = torch.float32)\n",
    "    with torch.no_grad():\n",
    "            values_p = net(states).detach().numpy().reshape(-1,1)\n",
    "     \n",
    "    return values_p\n",
    "\n",
    "def get_croc_vals(grid_points):\n",
    "    values = []\n",
    "    for initial_configuration in grid_points:\n",
    "        model = crocoddyl.ActionModelUnicycle()\n",
    "        model.costWeights = np.array([1., 1.]).T\n",
    "        problem = crocoddyl.ShootingProblem(initial_configuration.T, [ model ] * 30, model)\n",
    "        ddp         = crocoddyl.SolverDDP(problem)\n",
    "        ddp.th_stop = 1e-9\n",
    "    \n",
    "        ddp.solve([], [], 1000)\n",
    "        values.append([ddp.cost])\n",
    "    return np.array(values).reshape(-1,1)\n",
    "\n",
    "\n",
    "\n"
   ]
  },
  {
   "cell_type": "code",
   "execution_count": null,
   "metadata": {},
   "outputs": [],
   "source": [
    "grid = grid_data(size=100,theta_lims=[0., 0.], as_tensor=False)\n",
    "\n",
    "\n",
    "\n",
    "\n"
   ]
  },
  {
   "cell_type": "code",
   "execution_count": null,
   "metadata": {},
   "outputs": [],
   "source": [
    "v_c = get_croc_vals(grid)"
   ]
  },
  {
   "cell_type": "code",
   "execution_count": null,
   "metadata": {},
   "outputs": [],
   "source": [
    "v_p0 = get_net_values(net0, grid)\n"
   ]
  },
  {
   "cell_type": "code",
   "execution_count": null,
   "metadata": {},
   "outputs": [],
   "source": []
  },
  {
   "cell_type": "code",
   "execution_count": null,
   "metadata": {},
   "outputs": [],
   "source": [
    "v_p10 = get_net_values(net9,grid)\n"
   ]
  },
  {
   "cell_type": "code",
   "execution_count": null,
   "metadata": {},
   "outputs": [],
   "source": [
    "\n",
    "plt.clf()\n",
    "plt.set_cmap('jet')\n",
    "fig, axs = plt.subplots(1, 2, figsize=(8, 3), sharex=True, sharey ='row')\n",
    "fig.subplots_adjust(left=0.02, bottom=0.2, top=0.94)\n",
    "\n",
    "im0 = axs[0].scatter(x = grid[:,0], y = grid[:,1], c= v_c)\n",
    "im1 = axs[1].scatter(x = grid[:,0], y = grid[:,1], c= v_p10)\n",
    "\n",
    "axs[0].title.set_text(\"Crocoddyl\")\n",
    "axs[1].title.set_text(\"Iteration # 10\")\n",
    "#axs[2].title.set_text(\"Iteration # 10\")\n",
    "\n",
    "\n",
    "fig.colorbar(im1, ax=axs[1])\n",
    "#plt.savefig(\"value.svg\")"
   ]
  },
  {
   "cell_type": "code",
   "execution_count": null,
   "metadata": {},
   "outputs": [],
   "source": []
  }
 ],
 "metadata": {
  "kernelspec": {
   "display_name": "Python 3",
   "language": "python",
   "name": "python3"
  },
  "language_info": {
   "codemirror_mode": {
    "name": "ipython",
    "version": 3
   },
   "file_extension": ".py",
   "mimetype": "text/x-python",
   "name": "python",
   "nbconvert_exporter": "python",
   "pygments_lexer": "ipython3",
   "version": "3.6.9"
  }
 },
 "nbformat": 4,
 "nbformat_minor": 4
}
