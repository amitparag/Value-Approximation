{
 "cells": [
  {
   "cell_type": "markdown",
   "metadata": {},
   "source": [
    " Let's see the results of irepa:\n",
    " \n",
    " TO DO:\n",
    " \n",
    "    1: Plot trajectories of nominal, running, terminal crocoddyl from same starting points (x = 1.5)\n",
    "    \n",
    "    2: Plot value functions of nominal, running, terminal crocoddyl\n",
    "    \n",
    "    3: Plot prediction loss of running1, running25, terminal crocoddyl\n",
    "    \n",
    "    4: Plot disparity and MSE between :\n",
    "    \n",
    "        1: Nominal and Running1\n",
    "        \n",
    "        2: Nominal and Terminal crocoddyl\n",
    "        \n",
    "        3: Running 25 vs Nominal\n",
    "        \n",
    "        4: Running 45 to Terminal\n",
    "    "
   ]
  },
  {
   "cell_type": "code",
   "execution_count": 1,
   "metadata": {},
   "outputs": [],
   "source": [
    "%load_ext autoreload\n",
    "%autoreload 2"
   ]
  },
  {
   "cell_type": "code",
   "execution_count": 2,
   "metadata": {},
   "outputs": [],
   "source": [
    "from data_generator import Datagen\n",
    "from feedforward_network import FeedForwardNet\n",
    "from residual_network import ResidualNet\n",
    "from terminal_unicycle import FeedforwardUnicycle, ResidualUnicycle\n",
    "from ddp_solver import solve_problem\n",
    "import numpy as np\n",
    "import torch\n",
    "import matplotlib.pyplot as plt\n",
    "from utils import plot_trajectories"
   ]
  },
  {
   "cell_type": "code",
   "execution_count": 3,
   "metadata": {},
   "outputs": [],
   "source": [
    "fnet1 = torch.load('./Fnet/net1.pth')\n",
    "fnet5 = torch.load('./Fnet/net5.pth')\n",
    "fnet10 = torch.load('./Fnet/net10.pth')\n",
    "fnet17 = torch.load('./Fnet/net17.pth')\n",
    "fnet30 = torch.load('./Fnet/net30.pth')\n",
    "fnet50 = torch.load('./Fnet/net50.pth')\n",
    "\n",
    "\n",
    "rnet1 = torch.load('./Rnet/net1.pth')\n",
    "rnet5 = torch.load('./Rnet/net5.pth')\n",
    "rnet10 = torch.load('./Rnet/net10.pth')\n",
    "rnet17 = torch.load('./Rnet/net17.pth')\n",
    "rnet30 = torch.load('./Rnet/net30.pth')\n",
    "#rnet50 = torch.load('./Rnet/net50.pth')\n"
   ]
  },
  {
   "cell_type": "code",
   "execution_count": 4,
   "metadata": {},
   "outputs": [],
   "source": [
    "def data_plotting(size = 1):\n",
    "    x = np.zeros((size, 1)) - 2.1\n",
    "    y = np.random.uniform([-.001, 0], size = (size, 1))\n",
    "    z = np.zeros((size, 1))\n",
    "    \n",
    "    return np.hstack((x, y, z))"
   ]
  },
  {
   "cell_type": "code",
   "execution_count": 5,
   "metadata": {},
   "outputs": [],
   "source": [
    "data_set = data_plotting()"
   ]
  },
  {
   "cell_type": "code",
   "execution_count": 6,
   "metadata": {},
   "outputs": [],
   "source": [
    "def trajectories(net, dataset):\n",
    "    traj = []\n",
    "    cost = []\n",
    "    iters = []\n",
    "    for data in dataset:\n",
    "        terminal_model = FeedforwardUnicycle(net)\n",
    "        ddp = solve_problem(terminal_model=terminal_model, initial_configuration=data)\n",
    "        xs_ = np.array(ddp.xs)\n",
    "        xs  = xs_[:,0:2]\n",
    "        traj.append(xs)\n",
    "        cost.append(ddp.cost)\n",
    "        iters.append(ddp.iter)\n",
    "    return traj, cost, iters\n",
    "\n",
    "fnet1_t, fnet1_c, fnet1_i = trajectories(fnet1, dataset=data_set)\n",
    "fnet5_t, fnet5_c, fnet5_i = trajectories(fnet5, dataset=data_set)\n",
    "fnet10_t, fnet10_c, fnet10_i = trajectories(fnet10, dataset=data_set)\n",
    "fnet17_t, fnet17_c, fnet17_i = trajectories(fnet17, dataset=data_set)\n",
    "fnet30_t, fnet30_c, fnet30_i = trajectories(fnet30, dataset=data_set)\n",
    "fnet50_t, fnet50_c, fnet50_i = trajectories(fnet50, dataset=data_set)\n"
   ]
  },
  {
   "cell_type": "code",
   "execution_count": 8,
   "metadata": {},
   "outputs": [
    {
     "data": {
      "text/plain": [
       "Text(0.5, 1.0, 'Irepa with Feedforward Network.')"
      ]
     },
     "execution_count": 8,
     "metadata": {},
     "output_type": "execute_result"
    },
    {
     "data": {
      "image/png": "[encoded data removed]",
      "text/plain": [
       "<Figure size 720x432 with 1 Axes>"
      ]
     },
     "metadata": {
      "needs_background": "light"
     },
     "output_type": "display_data"
    }
   ],
   "source": [
    "fig, ax = plt.subplots(figsize=(10,6))\n",
    "\n",
    "for trajectory in fnet1_t:\n",
    "    ax.plot(trajectory[:,0], trajectory[:,1], c = 'yellow', label=\"Irepa 1\")\n",
    "    \n",
    "        \n",
    "for trajectory in fnet5_t:\n",
    "    ax.plot(trajectory[:,0], trajectory[:,1], c = 'blue',label=\"Irepa 5\")\n",
    "        \n",
    "    \n",
    "for trajectory in fnet17_t:\n",
    "    ax.plot(trajectory[:,0], trajectory[:,1], c = 'red',label=\"Irepa 17\")\n",
    "\n",
    "for trajectory in fnet30_t:\n",
    "    ax.plot(trajectory[:,0], trajectory[:,1], c = 'green',label=\"Irepa 30\")\n",
    "\n",
    "for trajectory in fnet50_t:\n",
    "    ax.plot(trajectory[:,0], trajectory[:,1], c = 'black',label=\"Terminal Crocoddyl, 50 iterations\")\n",
    "        \n",
    "     \n",
    "    \n",
    "ax.set_xticks(np.arange(-2.5, 2.5, step=0.5))\n",
    "ax.set_yticks(np.arange(-.6, .6, step=0.2))\n",
    "ax.grid()\n",
    "ax.legend()\n",
    "ax.set_xlabel(\"X positions\")\n",
    "ax.set_ylabel(\"Y positions\")\n",
    "ax.set_title(\"Irepa with Feedforward Network.\")\n",
    "#plt.savefig(\"Irepa1.png\")"
   ]
  },
  {
   "cell_type": "code",
   "execution_count": null,
   "metadata": {},
   "outputs": [],
   "source": []
  }
 ],
 "metadata": {
  "kernelspec": {
   "display_name": "Python 3",
   "language": "python",
   "name": "python3"
  },
  "language_info": {
   "codemirror_mode": {
    "name": "ipython",
    "version": 3
   },
   "file_extension": ".py",
   "mimetype": "text/x-python",
   "name": "python",
   "nbconvert_exporter": "python",
   "pygments_lexer": "ipython3",
   "version": "3.6.9"
  }
 },
 "nbformat": 4,
 "nbformat_minor": 4
}
