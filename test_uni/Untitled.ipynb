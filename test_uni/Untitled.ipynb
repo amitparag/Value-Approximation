{
 "cells": [
  {
   "cell_type": "code",
   "execution_count": 1,
   "metadata": {},
   "outputs": [],
   "source": [
    "from fnet import FeedForwardNet\n",
    "import numpy as np\n",
    "import torch\n",
    "import crocoddyl\n",
    "import matplotlib.pyplot as plt\n",
    "from tqdm import tqdm"
   ]
  },
  {
   "cell_type": "code",
   "execution_count": 2,
   "metadata": {},
   "outputs": [],
   "source": [
    "def random_positions(size:int = 3000,\n",
    "                         xlim = [-2.1,2.1],\n",
    "                         ylim = [-2.1,2.1],\n",
    "                         zlim = [-np.pi/2,np.pi/2],\n",
    "                         as_tensor:bool = False):\n",
    "    \"\"\"\n",
    "    Generate randomly sampled x, y, z from the ranges given.\n",
    "    @params:\n",
    "        1: size      = size of the array to generate\n",
    "        2: xlim      = range of x positions\n",
    "        3: ylim      = range of y positions\n",
    "        4: zlim      = range of z positions\n",
    "        5: as_tensor = bool, True if data is needed in the form of tensors\n",
    "        \n",
    "    @returns:\n",
    "        1: dataset = [x, y, theta], where x, y, theta have been generated randomly\n",
    "    \n",
    "    \"\"\"\n",
    "\n",
    "    x = np.random.uniform(*xlim, size = (size, 1))\n",
    "    y = np.random.uniform(*ylim, size = (size, 1))\n",
    "    z = np.random.uniform(*zlim, size = (size, 1))\n",
    "    \n",
    "    dataset = np.hstack((x, y, z))\n",
    "    \n",
    "    if as_tensor:\n",
    "        dataset = torch.tensor(dataset, dtype = torch.float32)\n",
    "        return dataset\n",
    "    \n",
    "    else: return dataset\n",
    "    \n",
    "    \n",
    "    \n",
    "    \n",
    "def grid_data(size:int = 10,\n",
    "             xy_limits = [-2., 2.],\n",
    "             theta_lims = [-np.pi/2, np.pi/2],\n",
    "             as_tensor:bool = False\n",
    "             ):\n",
    "    \"\"\"\n",
    "    @params:\n",
    "        1: size   = number of grid points\n",
    "        2: limits = xlim, ylim\n",
    "    \n",
    "    @returns:\n",
    "        1: grid array        \n",
    "    \"\"\"\n",
    "    min_x, max_x = xy_limits\n",
    "    xrange = np.linspace(min_x,max_x,size)\n",
    "    dataset = np.array([ [x1,x2, np.random.uniform(*theta_lims)] for x1 in xrange for x2 in xrange ])\n",
    "    \n",
    "    if as_tensor:\n",
    "        dataset = torch.tensor(dataset, dtype = torch.float32)\n",
    "        return dataset\n",
    "    \n",
    "    else: return dataset"
   ]
  },
  {
   "cell_type": "code",
   "execution_count": 3,
   "metadata": {},
   "outputs": [],
   "source": [
    "def train_data(dataset):\n",
    "    \n",
    "    x_data, y_data = [], []\n",
    "    \n",
    "    for data in dataset:\n",
    "        model = crocoddyl.ActionModelUnicycle()\n",
    "        model.costWeights = np.array([1., 1.]).T\n",
    "        \n",
    "        problem = crocoddyl.ShootingProblem(data, [model] * 30, model)\n",
    "        \n",
    "        ddp = crocoddyl.SolverDDP(problem)\n",
    "        \n",
    "        ddp.solve([], [], 1000)\n",
    "        \n",
    "        values = []\n",
    "        for d in ddp.problem.runningDatas:\n",
    "            values.append(d.cost)\n",
    "            \n",
    "        for i in range(len(values)):\n",
    "            values[i] =  sum(values[i:]) + ddp.problem.terminalData.cost\n",
    "        values.append(ddp.problem.terminalData.cost)    \n",
    "        \n",
    "        xs = np.array(ddp.xs)\n",
    "       \n",
    "        for node, cost in zip(xs, values):\n",
    "            x_data.append(node)\n",
    "            y_data.append(cost)\n",
    "        del values, xs    \n",
    "        \n",
    "    return np.array(x_data), np.array(y_data).reshape(-1,1)\n",
    "        "
   ]
  },
  {
   "cell_type": "code",
   "execution_count": 4,
   "metadata": {},
   "outputs": [],
   "source": [
    "# Generate Random starting positions\n",
    "r_p = random_positions(1000)"
   ]
  },
  {
   "cell_type": "code",
   "execution_count": 5,
   "metadata": {},
   "outputs": [],
   "source": [
    "# Get training data\n",
    "\n",
    "s, v = train_data(r_p)\n",
    "xtrain, ytrain = torch.tensor(s, dtype = torch.float32), torch.tensor(v, dtype = torch.float32)"
   ]
  },
  {
   "cell_type": "code",
   "execution_count": 6,
   "metadata": {},
   "outputs": [],
   "source": [
    "net = FeedForwardNet(fc1_dims=20, fc2_dims=20)"
   ]
  },
  {
   "cell_type": "code",
   "execution_count": 7,
   "metadata": {},
   "outputs": [
    {
     "data": {
      "text/plain": [
       "FeedForwardNet(\n",
       "  (activation): Tanh()\n",
       "  (fc1): Linear(in_features=3, out_features=20, bias=True)\n",
       "  (fc2): Linear(in_features=20, out_features=20, bias=True)\n",
       "  (fc3): Linear(in_features=20, out_features=1, bias=True)\n",
       ")"
      ]
     },
     "execution_count": 7,
     "metadata": {},
     "output_type": "execute_result"
    }
   ],
   "source": [
    "# Dataloader\n",
    "dataset = torch.utils.data.TensorDataset(xtrain, ytrain)\n",
    "dataloader = torch.utils.data.DataLoader(dataset, batch_size = 1000)\n",
    "\n",
    "criterion = torch.nn.MSELoss(reduction='sum')\n",
    "optimizer = torch.optim.Adam(net.parameters(), lr = 1e-3, weight_decay=0.1)  \n",
    "\n",
    "\n",
    "net.train()\n",
    "    "
   ]
  },
  {
   "cell_type": "code",
   "execution_count": 8,
   "metadata": {},
   "outputs": [
    {
     "name": "stderr",
     "output_type": "stream",
     "text": [
      "100%|██████████| 10000/10000 [43:36<00:00,  3.82it/s] \n"
     ]
    }
   ],
   "source": [
    "for epoch in tqdm(range(10000)):        \n",
    "        for data, target in dataloader: \n",
    "\n",
    "            output = net(data)\n",
    "            loss = criterion(output, target)\n",
    "\n",
    "            optimizer.zero_grad()\n",
    "            loss.backward()\n",
    "            optimizer.step()\n"
   ]
  },
  {
   "cell_type": "code",
   "execution_count": 10,
   "metadata": {},
   "outputs": [],
   "source": [
    "from terminal_unicycle import FeedforwardUnicycle\n"
   ]
  },
  {
   "cell_type": "code",
   "execution_count": 11,
   "metadata": {},
   "outputs": [],
   "source": []
  },
  {
   "cell_type": "code",
   "execution_count": 94,
   "metadata": {},
   "outputs": [],
   "source": [
    "model = crocoddyl.ActionModelUnicycle()\n",
    "model.costWeights = np.array([1,1.]).T\n",
    "x0 = np.array([-1.99, 0.99, 0.654])\n",
    "T  = 30\n",
    "problem = crocoddyl.ShootingProblem(x0, [ model ] * T, model)\n",
    "ddp = crocoddyl.SolverDDP(problem)\n",
    "log = crocoddyl.CallbackLogger()\n",
    "ddp.setCallbacks([log,\n",
    "                  crocoddyl.CallbackVerbose()])\n",
    "ddp.solve([], [], 1000)\n",
    "\n",
    "c_log = log.stops[1:]"
   ]
  },
  {
   "cell_type": "code",
   "execution_count": 95,
   "metadata": {},
   "outputs": [],
   "source": [
    "terminal_m = FeedforwardUnicycle(net)\n",
    "\n",
    "model = crocoddyl.ActionModelUnicycle()\n",
    "model.costWeights = np.array([1,1.]).T\n",
    "T  = 30\n",
    "problem = crocoddyl.ShootingProblem(x0.T, [ model ] * T, terminal_m)\n",
    "ddp = crocoddyl.SolverDDP(problem)\n",
    "log = crocoddyl.CallbackLogger()\n",
    "ddp.setCallbacks([log,\n",
    "                  crocoddyl.CallbackVerbose()])\n",
    "ddp.th_stop = 1e-6\n",
    "ddp.solve([], [], 1000)\n",
    "p_log = log.stops[1:]\n",
    "    \n"
   ]
  },
  {
   "cell_type": "code",
   "execution_count": 96,
   "metadata": {},
   "outputs": [
    {
     "data": {
      "image/png": "[encoded data removed]",
      "text/plain": [
       "<Figure size 432x288 with 1 Axes>"
      ]
     },
     "metadata": {
      "needs_background": "light"
     },
     "output_type": "display_data"
    }
   ],
   "source": [
    "plt.clf()\n",
    "plt.plot(c_log, \"--o\", label = \"Crocoddyl\")\n",
    "#plt.plot(p_log, '--o', label = \"Neural Net\")\n",
    "plt.ylabel(\"Stopping Criterion\", fontsize = 15)\n",
    "plt.xlabel(\"Iterations taken by solver\", fontsize = 15)\n",
    "#plt.xticks(np.arange(0, 32, step=4))\n",
    "#plt.yticks(np.arange(0, 1., step=0.2))\n",
    "plt.legend()\n",
    "#plt.savefig(\"trainedNet.png\")\n",
    "plt.show()\n"
   ]
  },
  {
   "cell_type": "code",
   "execution_count": null,
   "metadata": {},
   "outputs": [],
   "source": []
  }
 ],
 "metadata": {
  "kernelspec": {
   "display_name": "Python 3",
   "language": "python",
   "name": "python3"
  },
  "language_info": {
   "codemirror_mode": {
    "name": "ipython",
    "version": 3
   },
   "file_extension": ".py",
   "mimetype": "text/x-python",
   "name": "python",
   "nbconvert_exporter": "python",
   "pygments_lexer": "ipython3",
   "version": "3.6.9"
  }
 },
 "nbformat": 4,
 "nbformat_minor": 4
}
