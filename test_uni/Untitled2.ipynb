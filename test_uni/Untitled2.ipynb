{
 "cells": [
  {
   "cell_type": "code",
   "execution_count": 1,
   "metadata": {},
   "outputs": [],
   "source": [
    "from fnet import FeedForwardNet\n",
    "import numpy as np\n",
    "import torch\n",
    "import crocoddyl\n",
    "import matplotlib.pyplot as plt\n",
    "from tqdm import tqdm"
   ]
  },
  {
   "cell_type": "code",
   "execution_count": 2,
   "metadata": {},
   "outputs": [],
   "source": [
    "def random_positions(size:int = 3000,\n",
    "                         xlim = [-2.1,2.1],\n",
    "                         ylim = [-2.1,2.1],\n",
    "                         zlim = [-np.pi/2,np.pi/2],\n",
    "                         as_tensor:bool = False):\n",
    "    \"\"\"\n",
    "    Generate randomly sampled x, y, z from the ranges given.\n",
    "    @params:\n",
    "        1: size      = size of the array to generate\n",
    "        2: xlim      = range of x positions\n",
    "        3: ylim      = range of y positions\n",
    "        4: zlim      = range of z positions\n",
    "        5: as_tensor = bool, True if data is needed in the form of tensors\n",
    "        \n",
    "    @returns:\n",
    "        1: dataset = [x, y, theta], where x, y, theta have been generated randomly\n",
    "    \n",
    "    \"\"\"\n",
    "\n",
    "    x = np.random.uniform(*xlim, size = (size, 1))\n",
    "    y = np.random.uniform(*ylim, size = (size, 1))\n",
    "    z = np.random.uniform(*zlim, size = (size, 1))\n",
    "    \n",
    "    dataset = np.hstack((x, y, z))\n",
    "    \n",
    "    if as_tensor:\n",
    "        dataset = torch.tensor(dataset, dtype = torch.float32)\n",
    "        return dataset\n",
    "    \n",
    "    else: return dataset\n"
   ]
  },
  {
   "cell_type": "code",
   "execution_count": 3,
   "metadata": {},
   "outputs": [],
   "source": [
    "def train_data(dataset):\n",
    "    \n",
    "    trajectory = []\n",
    "    \n",
    "    for data in dataset:\n",
    "        model = crocoddyl.ActionModelUnicycle()\n",
    "        model.costWeights = np.array([1., 1.]).T\n",
    "        \n",
    "        problem = crocoddyl.ShootingProblem(data, [model] * 30, model)\n",
    "        \n",
    "        ddp = crocoddyl.SolverDDP(problem)\n",
    "        \n",
    "        ddp.solve([], [], 1000)\n",
    "        xs = np.array(ddp.xs)\n",
    "        xs = xs.flatten()\n",
    "        trajectory.append(xs)\n",
    "        \n",
    "    return np.array(trajectory)"
   ]
  },
  {
   "cell_type": "code",
   "execution_count": 4,
   "metadata": {},
   "outputs": [],
   "source": [
    "dataset = random_positions(10000)"
   ]
  },
  {
   "cell_type": "code",
   "execution_count": 5,
   "metadata": {},
   "outputs": [],
   "source": [
    "trajectories = train_data(dataset)"
   ]
  },
  {
   "cell_type": "code",
   "execution_count": 6,
   "metadata": {},
   "outputs": [],
   "source": [
    "xtrain   = torch.tensor(dataset, dtype = torch.float32)\n",
    "ytrain   = torch.tensor(trajectories, dtype = torch.float32)"
   ]
  },
  {
   "cell_type": "code",
   "execution_count": 7,
   "metadata": {},
   "outputs": [],
   "source": [
    "net = FeedForwardNet(fc1_dims=20, fc2_dims=20,input_dims=xtrain.shape[1], out_dims=ytrain.shape[1])"
   ]
  },
  {
   "cell_type": "code",
   "execution_count": 8,
   "metadata": {},
   "outputs": [
    {
     "data": {
      "text/plain": [
       "FeedForwardNet(\n",
       "  (activation): Tanh()\n",
       "  (fc1): Linear(in_features=3, out_features=64, bias=True)\n",
       "  (fc2): Linear(in_features=64, out_features=64, bias=True)\n",
       "  (fc3): Linear(in_features=64, out_features=93, bias=True)\n",
       ")"
      ]
     },
     "execution_count": 8,
     "metadata": {},
     "output_type": "execute_result"
    }
   ],
   "source": [
    "# Dataloader\n",
    "dataset = torch.utils.data.TensorDataset(xtrain, ytrain)\n",
    "dataloader = torch.utils.data.DataLoader(dataset, batch_size = 500)\n",
    "\n",
    "criterion = torch.nn.MSELoss(reduction='sum')\n",
    "optimizer = torch.optim.Adam(net.parameters(), lr = 1e-3, weight_decay=0.1)  \n",
    "\n",
    "\n",
    "net.train()"
   ]
  },
  {
   "cell_type": "code",
   "execution_count": 9,
   "metadata": {},
   "outputs": [
    {
     "name": "stderr",
     "output_type": "stream",
     "text": [
      "100%|██████████| 10000/10000 [10:52<00:00, 15.32it/s]\n"
     ]
    }
   ],
   "source": [
    "for epoch in tqdm(range(10000)):        \n",
    "        for data, target in dataloader: \n",
    "\n",
    "            output = net(data)\n",
    "            loss = criterion(output, target)\n",
    "\n",
    "            optimizer.zero_grad()\n",
    "            loss.backward()\n",
    "            optimizer.step()\n"
   ]
  },
  {
   "cell_type": "code",
   "execution_count": 23,
   "metadata": {},
   "outputs": [],
   "source": [
    "starting_position = random_positions(10)"
   ]
  },
  {
   "cell_type": "code",
   "execution_count": null,
   "metadata": {},
   "outputs": [],
   "source": []
  },
  {
   "cell_type": "code",
   "execution_count": null,
   "metadata": {},
   "outputs": [],
   "source": []
  },
  {
   "cell_type": "code",
   "execution_count": 24,
   "metadata": {},
   "outputs": [],
   "source": [
    "model = crocoddyl.ActionModelUnicycle()\n",
    "model.costWeights = np.array([1,1.]).T\n",
    "\n",
    "T  = 30\n",
    "problem = crocoddyl.ShootingProblem(starting_position[0], [ model ] * T, model)\n",
    "with torch.no_grad():\n",
    "    test = torch.tensor(starting_position[0], dtype = torch.float32).reshape(1,3)\n",
    "    warm_xs = net(test).detach().numpy().reshape(31, 3)\n",
    "    \n",
    "ddp = crocoddyl.SolverDDP(problem)\n",
    "log = crocoddyl.CallbackLogger()\n",
    "ddp.setCallbacks([log,\n",
    "                  crocoddyl.CallbackVerbose()])\n",
    "ddp.solve(warm_xs, [], 1000)\n",
    "\n",
    "log1 = log.stops[1:]\n"
   ]
  },
  {
   "cell_type": "code",
   "execution_count": 25,
   "metadata": {},
   "outputs": [],
   "source": [
    "del model, problem, ddp, T, log, warm_xs\n",
    "\n",
    "model = crocoddyl.ActionModelUnicycle()\n",
    "model.costWeights = np.array([1,1.]).T\n",
    "\n",
    "T  = 30\n",
    "problem = crocoddyl.ShootingProblem(starting_position[1], [ model ] * T, model)\n",
    "with torch.no_grad():\n",
    "    test = torch.tensor(starting_position[1], dtype = torch.float32).reshape(1,3)\n",
    "    warm_xs = net(test).detach().numpy().reshape(31, 3)\n",
    "    \n",
    "ddp = crocoddyl.SolverDDP(problem)\n",
    "log = crocoddyl.CallbackLogger()\n",
    "ddp.setCallbacks([log,\n",
    "                  crocoddyl.CallbackVerbose()])\n",
    "ddp.solve(warm_xs, [], 1000)\n",
    "\n",
    "log2 = log.stops[1:]\n",
    "###############################################3\n",
    "del model, problem, ddp, T, log, warm_xs\n",
    "\n",
    "model = crocoddyl.ActionModelUnicycle()\n",
    "model.costWeights = np.array([1,1.]).T\n",
    "\n",
    "T  = 30\n",
    "problem = crocoddyl.ShootingProblem(starting_position[2], [ model ] * T, model)\n",
    "with torch.no_grad():\n",
    "    test = torch.tensor(starting_position[2], dtype = torch.float32).reshape(1,3)\n",
    "    warm_xs = net(test).detach().numpy().reshape(31, 3)\n",
    "    \n",
    "ddp = crocoddyl.SolverDDP(problem)\n",
    "log = crocoddyl.CallbackLogger()\n",
    "ddp.setCallbacks([log,\n",
    "                  crocoddyl.CallbackVerbose()])\n",
    "ddp.solve(warm_xs, [], 1000)\n",
    "\n",
    "log3 = log.stops[1:]\n",
    "###########################################################\n",
    "del model, problem, ddp, T, log, warm_xs\n",
    "\n",
    "model = crocoddyl.ActionModelUnicycle()\n",
    "model.costWeights = np.array([1,1.]).T\n",
    "\n",
    "T  = 30\n",
    "problem = crocoddyl.ShootingProblem(starting_position[3], [ model ] * T, model)\n",
    "with torch.no_grad():\n",
    "    test = torch.tensor(starting_position[3], dtype = torch.float32).reshape(1,3)\n",
    "    warm_xs = net(test).detach().numpy().reshape(31, 3)\n",
    "    \n",
    "ddp = crocoddyl.SolverDDP(problem)\n",
    "log = crocoddyl.CallbackLogger()\n",
    "ddp.setCallbacks([log,\n",
    "                  crocoddyl.CallbackVerbose()])\n",
    "ddp.solve(warm_xs, [], 1000)\n",
    "\n",
    "log4 = log.stops[1:]\n",
    "############################################################"
   ]
  },
  {
   "cell_type": "code",
   "execution_count": 26,
   "metadata": {},
   "outputs": [
    {
     "data": {
      "text/plain": [
       "Text(0.5, 1.0, 'Different Starting Positions for Crocoddyl. Warmstarted by Neural Net.')"
      ]
     },
     "execution_count": 26,
     "metadata": {},
     "output_type": "execute_result"
    },
    {
     "data": {
      "image/png": "[encoded data removed]",
      "text/plain": [
       "<Figure size 432x288 with 1 Axes>"
      ]
     },
     "metadata": {
      "needs_background": "light"
     },
     "output_type": "display_data"
    }
   ],
   "source": [
    "plt.clf()\n",
    "plt.plot(log1, \"--\")\n",
    "plt.plot(log2, '--')\n",
    "plt.plot(log3, '--')\n",
    "#plt.plot(log4, '--')\n",
    "plt.ylabel(\"Stopping Criterion\", fontsize = 15)\n",
    "plt.xlabel(\"Iterations taken by solver\", fontsize = 15)\n",
    "plt.title(\"Different Starting Positions for Crocoddyl. Warmstarted by Neural Net.\")\n",
    "#plt.savefig(\"plot2_warmstarted.png\")"
   ]
  },
  {
   "cell_type": "code",
   "execution_count": 27,
   "metadata": {},
   "outputs": [],
   "source": [
    "model = crocoddyl.ActionModelUnicycle()\n",
    "model.costWeights = np.array([1,1.]).T\n",
    "\n",
    "T  = 30\n",
    "problem = crocoddyl.ShootingProblem(starting_position[1], [ model ] * T, model)\n",
    "with torch.no_grad():\n",
    "    test = torch.tensor(starting_position[2], dtype = torch.float32).reshape(1,3)\n",
    "    warm_xs = net(test).detach().numpy().reshape(31, 3)\n",
    "    \n",
    "ddp = crocoddyl.SolverDDP(problem)\n",
    "log = crocoddyl.CallbackLogger()\n",
    "ddp.setCallbacks([log,\n",
    "                  crocoddyl.CallbackVerbose()])\n",
    "ddp.solve(warm_xs, [], 1000)\n",
    "\n",
    "log3 = log.stops[1:]"
   ]
  },
  {
   "cell_type": "code",
   "execution_count": 28,
   "metadata": {},
   "outputs": [],
   "source": [
    "xs = np.array(ddp.xs)"
   ]
  },
  {
   "cell_type": "code",
   "execution_count": 29,
   "metadata": {},
   "outputs": [],
   "source": [
    "del model, log, T, problem, ddp\n",
    "model = crocoddyl.ActionModelUnicycle()\n",
    "model.costWeights = np.array([1,1.]).T\n",
    "\n",
    "T  = 30\n",
    "problem = crocoddyl.ShootingProblem(starting_position[1], [ model ] * T, model)\n",
    "\n",
    "ddp = crocoddyl.SolverDDP(problem)\n",
    "log = crocoddyl.CallbackLogger()\n",
    "ddp.setCallbacks([log,\n",
    "                  crocoddyl.CallbackVerbose()])\n",
    "ddp.solve([], [], 1000)\n",
    "\n",
    "xs2 = np.array(ddp.xs)"
   ]
  },
  {
   "cell_type": "code",
   "execution_count": 30,
   "metadata": {},
   "outputs": [
    {
     "data": {
      "text/plain": [
       "<matplotlib.legend.Legend at 0x7fc6440cf6a0>"
      ]
     },
     "execution_count": 30,
     "metadata": {},
     "output_type": "execute_result"
    },
    {
     "data": {
      "text/plain": [
       "<Figure size 432x288 with 0 Axes>"
      ]
     },
     "metadata": {},
     "output_type": "display_data"
    },
    {
     "data": {
      "image/png": "[encoded data removed]",
      "text/plain": [
       "<Figure size 720x576 with 1 Axes>"
      ]
     },
     "metadata": {
      "needs_background": "light"
     },
     "output_type": "display_data"
    }
   ],
   "source": [
    "plt.clf()\n",
    "plt.figure(figsize=(10, 8))\n",
    "plt.plot(xs[:,0], xs[:,1], '*', label = \"Warmstarted\")\n",
    "plt.plot(warm_xs[:,0], warm_xs[:,1], '--o', label = \"Predicted\")\n",
    "plt.plot(xs2[:,0], xs2[:,1], c = 'black', label = \"Coldstarted\")\n",
    "#plt.xlim([-2.5, 2.5]) \n",
    "#plt.ylim([2, 0]) \n",
    "plt.grid()\n",
    "plt.legend()\n",
    "#plt.savefig(\"plot5.png\")"
   ]
  },
  {
   "cell_type": "code",
   "execution_count": 18,
   "metadata": {},
   "outputs": [
    {
     "data": {
      "text/plain": [
       "-0.20664758290861282"
      ]
     },
     "execution_count": 18,
     "metadata": {},
     "output_type": "execute_result"
    }
   ],
   "source": [
    "np.mean(warm_xs[:,0] - xs2[:,0])"
   ]
  },
  {
   "cell_type": "code",
   "execution_count": 19,
   "metadata": {},
   "outputs": [
    {
     "data": {
      "text/plain": [
       "-1.5127112900799942"
      ]
     },
     "execution_count": 19,
     "metadata": {},
     "output_type": "execute_result"
    }
   ],
   "source": [
    "np.mean(warm_xs[:,1] - xs2[:,1])"
   ]
  },
  {
   "cell_type": "code",
   "execution_count": 20,
   "metadata": {},
   "outputs": [
    {
     "data": {
      "text/plain": [
       "-0.4711139023904301"
      ]
     },
     "execution_count": 20,
     "metadata": {},
     "output_type": "execute_result"
    }
   ],
   "source": [
    "np.mean(warm_xs - xs2)"
   ]
  },
  {
   "cell_type": "code",
   "execution_count": 21,
   "metadata": {},
   "outputs": [
    {
     "data": {
      "text/plain": [
       "229.89497154322626"
      ]
     },
     "execution_count": 21,
     "metadata": {},
     "output_type": "execute_result"
    }
   ],
   "source": [
    "np.mean(np.abs((xs2[:,1] - warm_xs[:,1]) / xs2[:,1])) * 100"
   ]
  },
  {
   "cell_type": "code",
   "execution_count": 22,
   "metadata": {},
   "outputs": [
    {
     "data": {
      "text/plain": [
       "77.24022023953943"
      ]
     },
     "execution_count": 22,
     "metadata": {},
     "output_type": "execute_result"
    }
   ],
   "source": [
    "np.mean(np.abs((xs2[:,0] - warm_xs[:,0]) / xs2[:,0])) * 100"
   ]
  },
  {
   "cell_type": "code",
   "execution_count": null,
   "metadata": {},
   "outputs": [],
   "source": []
  },
  {
   "cell_type": "code",
   "execution_count": null,
   "metadata": {},
   "outputs": [],
   "source": []
  }
 ],
 "metadata": {
  "kernelspec": {
   "display_name": "Python 3",
   "language": "python",
   "name": "python3"
  },
  "language_info": {
   "codemirror_mode": {
    "name": "ipython",
    "version": 3
   },
   "file_extension": ".py",
   "mimetype": "text/x-python",
   "name": "python",
   "nbconvert_exporter": "python",
   "pygments_lexer": "ipython3",
   "version": "3.6.9"
  }
 },
 "nbformat": 4,
 "nbformat_minor": 4
}
