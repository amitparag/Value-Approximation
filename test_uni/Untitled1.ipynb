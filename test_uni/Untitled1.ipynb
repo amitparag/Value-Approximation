{
 "cells": [
  {
   "cell_type": "code",
   "execution_count": 2,
   "metadata": {},
   "outputs": [],
   "source": [
    "import crocoddyl\n",
    "import numpy as np\n",
    "import matplotlib.pyplot as plt\n",
    "%matplotlib inline"
   ]
  },
  {
   "cell_type": "code",
   "execution_count": 20,
   "metadata": {},
   "outputs": [],
   "source": [
    "def random_positions(size:int = 3000,\n",
    "                     xlim = [-2.1,2.1],\n",
    "                     ylim = [-2.1,2.1],\n",
    "                     zlim = [-np.pi/2,np.pi/2],\n",
    "                     as_tensor:bool = False):\n",
    "\n",
    "    x = np.random.uniform(*xlim, size = (size, 1))\n",
    "    y = np.random.uniform(*ylim, size = (size, 1))\n",
    "    z = np.random.uniform(*zlim, size = (size, 1))\n",
    "    \n",
    "    dataset = np.hstack((x, y, z))\n",
    "    \n",
    "    if as_tensor:\n",
    "        dataset = torch.tensor(dataset, dtype = torch.float32)\n",
    "        return dataset\n",
    "    \n",
    "    else: return dataset"
   ]
  },
  {
   "cell_type": "code",
   "execution_count": 21,
   "metadata": {},
   "outputs": [],
   "source": [
    "starting_position = random_positions(10)"
   ]
  },
  {
   "cell_type": "code",
   "execution_count": 31,
   "metadata": {},
   "outputs": [
    {
     "data": {
      "text/plain": [
       "array([[-0.56608804, -1.02014949, -0.34892124],\n",
       "       [ 0.05466902, -1.67634521, -1.51376705],\n",
       "       [-2.08704869,  1.88644619,  0.72340641],\n",
       "       [ 0.90959285,  0.65684979,  1.55331612],\n",
       "       [ 0.65323169, -1.386168  , -1.0127302 ],\n",
       "       [ 0.17372971, -0.25750386, -0.99989874],\n",
       "       [ 0.04282839,  1.04487716,  0.91133328],\n",
       "       [ 1.02077112, -0.80378522, -0.34974746],\n",
       "       [ 0.72602919,  1.87879727, -0.51331858],\n",
       "       [-1.35720017,  0.93111752, -1.46719117]])"
      ]
     },
     "execution_count": 31,
     "metadata": {},
     "output_type": "execute_result"
    }
   ],
   "source": [
    "starting_position"
   ]
  },
  {
   "cell_type": "code",
   "execution_count": 29,
   "metadata": {},
   "outputs": [],
   "source": [
    "model = crocoddyl.ActionModelUnicycle()\n",
    "model.costWeights = np.array([1,1.]).T\n",
    "\n",
    "T  = 30\n",
    "problem = crocoddyl.ShootingProblem(starting_position[0], [ model ] * T, model)\n",
    "ddp = crocoddyl.SolverDDP(problem)\n",
    "log = crocoddyl.CallbackLogger()\n",
    "ddp.setCallbacks([log,\n",
    "                  crocoddyl.CallbackVerbose()])\n",
    "ddp.solve([], [], 1000)\n",
    "\n",
    "log1 = log.stops[1:]\n",
    "\n",
    "del ddp, problem, log, model, T\n",
    "################################################################\n",
    "model = crocoddyl.ActionModelUnicycle()\n",
    "model.costWeights = np.array([1,1.]).T\n",
    "\n",
    "T  = 30\n",
    "problem = crocoddyl.ShootingProblem(starting_position[1], [ model ] * T, model)\n",
    "ddp = crocoddyl.SolverDDP(problem)\n",
    "log = crocoddyl.CallbackLogger()\n",
    "ddp.setCallbacks([log,\n",
    "                  crocoddyl.CallbackVerbose()])\n",
    "ddp.solve([], [], 1000)\n",
    "\n",
    "log2 = log.stops[1:]\n",
    "\n",
    "del ddp, problem, log, model, T\n",
    "##############################################################\n",
    "\n",
    "model = crocoddyl.ActionModelUnicycle()\n",
    "model.costWeights = np.array([1,1.]).T\n",
    "\n",
    "T  = 30\n",
    "problem = crocoddyl.ShootingProblem(starting_position[2], [ model ] * T, model)\n",
    "ddp = crocoddyl.SolverDDP(problem)\n",
    "log = crocoddyl.CallbackLogger()\n",
    "ddp.setCallbacks([log,\n",
    "                  crocoddyl.CallbackVerbose()])\n",
    "ddp.solve([], [], 1000)\n",
    "\n",
    "log3 = log.stops[1:]\n",
    "\n",
    "del ddp, problem, log, model, T\n",
    "\n",
    "##################################################################\n",
    "model = crocoddyl.ActionModelUnicycle()\n",
    "model.costWeights = np.array([1,1.]).T\n",
    "\n",
    "T  = 30\n",
    "problem = crocoddyl.ShootingProblem(starting_position[3], [ model ] * T, model)\n",
    "ddp = crocoddyl.SolverDDP(problem)\n",
    "log = crocoddyl.CallbackLogger()\n",
    "ddp.setCallbacks([log,\n",
    "                  crocoddyl.CallbackVerbose()])\n",
    "ddp.solve([], [], 1000)\n",
    "\n",
    "log4 = log.stops[1:]\n",
    "\n",
    "del ddp, problem, log, model, T\n",
    "#########################################################"
   ]
  },
  {
   "cell_type": "code",
   "execution_count": 30,
   "metadata": {},
   "outputs": [
    {
     "data": {
      "text/plain": [
       "Text(0.5, 1.0, 'Different Starting Positions for Crocoddyl.')"
      ]
     },
     "execution_count": 30,
     "metadata": {},
     "output_type": "execute_result"
    },
    {
     "data": {
      "image/png": "[encoded data removed]",
      "text/plain": [
       "<Figure size 432x288 with 1 Axes>"
      ]
     },
     "metadata": {
      "needs_background": "light"
     },
     "output_type": "display_data"
    }
   ],
   "source": [
    "\n",
    "\n",
    "\n",
    "plt.clf()\n",
    "plt.plot(log1, \"--\")\n",
    "plt.plot(log2, '--')\n",
    "plt.plot(log3, '--')\n",
    "plt.plot(log4, '--')\n",
    "plt.ylabel(\"Stopping Criterion\", fontsize = 15)\n",
    "plt.xlabel(\"Iterations taken by solver\", fontsize = 15)\n",
    "plt.title(\"Different Starting Positions for Crocoddyl.\")\n",
    "#plt.savefig(\"plot1.png\")"
   ]
  },
  {
   "cell_type": "code",
   "execution_count": null,
   "metadata": {},
   "outputs": [],
   "source": []
  }
 ],
 "metadata": {
  "kernelspec": {
   "display_name": "Python 3",
   "language": "python",
   "name": "python3"
  },
  "language_info": {
   "codemirror_mode": {
    "name": "ipython",
    "version": 3
   },
   "file_extension": ".py",
   "mimetype": "text/x-python",
   "name": "python",
   "nbconvert_exporter": "python",
   "pygments_lexer": "ipython3",
   "version": "3.6.9"
  }
 },
 "nbformat": 4,
 "nbformat_minor": 4
}
