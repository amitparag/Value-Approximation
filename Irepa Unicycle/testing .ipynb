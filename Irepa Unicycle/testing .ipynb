{
 "cells": [
  {
   "cell_type": "code",
   "execution_count": 8,
   "metadata": {},
   "outputs": [],
   "source": [
    "%load_ext autoreload\n",
    "%autoreload 2"
   ]
  },
  {
   "cell_type": "code",
   "execution_count": 9,
   "metadata": {},
   "outputs": [],
   "source": [
    "from data_generator import Datagen\n",
    "from feedforward_network import FeedForwardNet\n",
    "from residual_network import ResidualNet\n",
    "from terminal_unicycle import FeedforwardUnicycle, ResidualUnicycle\n",
    "from ddp_solver import solve_problem\n",
    "import numpy as np\n",
    "import torch\n",
    "import matplotlib.pyplot as plt\n",
    "from utils import plot_trajectories\n"
   ]
  },
  {
   "cell_type": "code",
   "execution_count": 10,
   "metadata": {},
   "outputs": [
    {
     "name": "stdout",
     "output_type": "stream",
     "text": [
      " Returning 100 points from the circumference of a circle of radii [2, 0.5, 1]\n"
     ]
    }
   ],
   "source": [
    "d = Datagen.circular_data([2, 0.5,1], [10, 50, 40])"
   ]
  },
  {
   "cell_type": "code",
   "execution_count": 28,
   "metadata": {},
   "outputs": [],
   "source": [
    "def points(r=[2, 1, 0.5], n=[30, 40, 30]):\n",
    "    \"\"\"\n",
    "    @params:\n",
    "        r = list of radii\n",
    "        n = list of number of points required from each radii\n",
    "\n",
    "    @returns:\n",
    "        array of points from the circumference of circle of radius r centered on origin\n",
    "\n",
    "    Usage: circle_points([2, 1, 3], [100, 20, 40]). This will return 100, 20, 40 points from\n",
    "           circles of radius 2, 1 and 3\n",
    "    \"\"\"\n",
    "\n",
    "    print(f\" Returning {sum(n)} points from the circumference of a circle of radii {r}\")\n",
    "    size = sum(n)\n",
    "    \n",
    "    circles = []\n",
    "    for r, n in zip(r, n):\n",
    "        t = np.linspace(0, 2* np.pi, n)\n",
    "        x = r * np.cos(t)\n",
    "        y = r * np.sin(t)\n",
    "        z = np.zeros(x.size,)\n",
    "        circles.append(np.c_[x, y, z])\n",
    "    data = np.array(circles).squeeze()\n",
    "    angles = np.random.uniform(-2*np.pi, 2*np.pi, size = (size,1))\n",
    "    data = np.vstack([i for i in np.array(data)])\n",
    "    data = data[:,0:2]\n",
    "    return np.hstack((data,angles))\n",
    "    "
   ]
  },
  {
   "cell_type": "code",
   "execution_count": 29,
   "metadata": {},
   "outputs": [
    {
     "name": "stdout",
     "output_type": "stream",
     "text": [
      " Returning 100 points from the circumference of a circle of radii [2, 1, 0.5]\n"
     ]
    }
   ],
   "source": [
    "a = points()"
   ]
  },
  {
   "cell_type": "code",
   "execution_count": 31,
   "metadata": {},
   "outputs": [
    {
     "data": {
      "text/plain": [
       "(100, 3)"
      ]
     },
     "execution_count": 31,
     "metadata": {},
     "output_type": "execute_result"
    }
   ],
   "source": [
    "a.shape"
   ]
  },
  {
   "cell_type": "code",
   "execution_count": null,
   "metadata": {},
   "outputs": [],
   "source": []
  }
 ],
 "metadata": {
  "kernelspec": {
   "display_name": "Python 3",
   "language": "python",
   "name": "python3"
  },
  "language_info": {
   "codemirror_mode": {
    "name": "ipython",
    "version": 3
   },
   "file_extension": ".py",
   "mimetype": "text/x-python",
   "name": "python",
   "nbconvert_exporter": "python",
   "pygments_lexer": "ipython3",
   "version": "3.6.9"
  }
 },
 "nbformat": 4,
 "nbformat_minor": 4
}
