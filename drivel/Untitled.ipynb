{
 "cells": [
  {
   "cell_type": "code",
   "execution_count": null,
   "metadata": {},
   "outputs": [],
   "source": [
    "import torch\n",
    "import torch.nn as nn\n",
    "torch.set_default_tensor_type(torch.double)\n",
    "\n",
    "class ValueNetwork(nn.Module):\n",
    "    def __init__(self, \n",
    "                input_dims:int  = 3,\n",
    "                output_dims:int = 1,\n",
    "                fc1_dims:int    = 100,\n",
    "                fc2_dims:int    = 100,\n",
    "                fc3_dims:int    = 1,\n",
    "                activation      = nn.ReLU(),\n",
    "                device:str      = 'cpu'):\n",
    "        super(ValueNetwork, self).__init__()\n",
    "        \"\"\"Instantiate an untrained neural network with the given params\n",
    "\n",
    "        Args\n",
    "        ........\n",
    "                \n",
    "                1: input_dims   = dimensions of the state space of the robot. 3 for unicycle\n",
    "                2: output_dims  = dimensions of the ddp.cost. 1\n",
    "                3: fc1_dims     = number of units in the first fully connected layer. Default 100\n",
    "                4: fc2_dims     = number of units in the second fully connected layer. Default 100\n",
    "                5: fc3_dims     = number of units in the third fully connected layer. Default 1\n",
    "                6: activation   = activation for the layers, default ReLU.\n",
    "                7: device       = device for computations. Generally CPU\n",
    "\n",
    "        \"\"\"\n",
    "\n",
    "        self.input_dims = input_dims\n",
    "        self.output_dims   = out_dims\n",
    "        self.fc1_dims   = fc1_dims\n",
    "        self.fc2_dims   = fc2_dims\n",
    "        self.fc3_dims   = fc3_dims\n",
    "        self.activation = activation\n",
    "        "
   ]
  }
 ],
 "metadata": {
  "kernelspec": {
   "display_name": "Python 3",
   "language": "python",
   "name": "python3"
  },
  "language_info": {
   "codemirror_mode": {
    "name": "ipython",
    "version": 3
   },
   "file_extension": ".py",
   "mimetype": "text/x-python",
   "name": "python",
   "nbconvert_exporter": "python",
   "pygments_lexer": "ipython3",
   "version": "3.6.9"
  }
 },
 "nbformat": 4,
 "nbformat_minor": 4
}
