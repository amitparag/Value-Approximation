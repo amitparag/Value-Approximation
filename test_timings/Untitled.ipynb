{
 "cells": [
  {
   "cell_type": "code",
   "execution_count": null,
   "metadata": {},
   "outputs": [],
   "source": [
    "\n",
    "\n",
    "Unicycle:\n",
    "    \n",
    "    Number of Problems | Horizon | Precision | Maxiters | Computation time(in seconds)\n",
    "        \n",
    "        10000              30        1e-9        1000           6 s\n",
    "        10000              30        1e-7        1000           5 s\n",
    "        \n",
    "        10000              100       1e-9        1000           31 s \n",
    "        10000              100       1e-7        1000           28 s               \n",
    "        \n",
    "        10000              200       1e-9        1000           77 s \n",
    "        10000              200       1e-7        1000           64 s\n",
    "        \n",
    "Pendulum:\n",
    "          1                100       1e-9        1000           1.4 s\n",
    "         10                100       1e-9        1000           6 s\n",
    "         10                200       1e-9        1000           15 s\n",
    "         \n",
    "         100               100       1e-9        1000           48 s   \n",
    "         100               100       1e-7        1000           38 s\n",
    "         100               200       1e-9        1000           106 s\n",
    "        \n",
    "        1000               100       1e-9        1000           511 s\n",
    "        1000               150       1e-9        1000           695 s \n",
    "    "
   ]
  }
 ],
 "metadata": {
  "kernelspec": {
   "display_name": "Python 3",
   "language": "python",
   "name": "python3"
  },
  "language_info": {
   "codemirror_mode": {
    "name": "ipython",
    "version": 3
   },
   "file_extension": ".py",
   "mimetype": "text/x-python",
   "name": "python",
   "nbconvert_exporter": "python",
   "pygments_lexer": "ipython3",
   "version": "3.6.9"
  }
 },
 "nbformat": 4,
 "nbformat_minor": 4
}
