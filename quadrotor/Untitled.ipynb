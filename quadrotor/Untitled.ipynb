{
 "cells": [
  {
   "cell_type": "code",
   "execution_count": 1,
   "metadata": {},
   "outputs": [
    {
     "data": {
      "text/plain": [
       "True"
      ]
     },
     "execution_count": 1,
     "metadata": {},
     "output_type": "execute_result"
    }
   ],
   "source": [
    "\n",
    "import os\n",
    "import sys\n",
    "\n",
    "import crocoddyl\n",
    "import pinocchio\n",
    "import numpy as np\n",
    "import example_robot_data\n",
    "\n",
    "\n",
    "hector = example_robot_data.loadHector()\n",
    "robot_model = hector.model\n",
    "\n",
    "target_pos = np.array([1, 0, 1])\n",
    "target_quat = pinocchio.Quaternion(1, 0, 0, 0)\n",
    "\n",
    "state = crocoddyl.StateMultibody(robot_model)\n",
    "d_cog = 0.1525\n",
    "cf = 6.6e-5\n",
    "cm = 1e-6\n",
    "u_lim = 5\n",
    "l_lim = 0.1\n",
    "tau_f = np.array([[0.0, 0.0, 0.0, 0.0], [0.0, 0.0, 0.0, 0.0], [1.0, 1.0, 1.0, 1.0], [0.0, d_cog, 0.0, -d_cog],\n",
    "                  [-d_cog, 0.0, d_cog, 0.0], [-cm / cf, cm / cf, -cm / cf, cm / cf]])\n",
    "\n",
    "actModel = crocoddyl.ActuationModelMultiCopterBase(state, 4, tau_f)\n",
    "\n",
    "runningCostModel = crocoddyl.CostModelSum(state, actModel.nu)\n",
    "terminalCostModel = crocoddyl.CostModelSum(state, actModel.nu)\n",
    "\n",
    "# Needed objects to create the costs\n",
    "Mref = crocoddyl.FramePlacement(robot_model.getFrameId(\"base_link\"), pinocchio.SE3(target_quat.matrix(), target_pos))\n",
    "wBasePos, wBaseOri, wBaseVel = 0.1, 1000, 1000\n",
    "stateWeights = np.array([wBasePos] * 3 + [wBaseOri] * 3 + [wBaseVel] * robot_model.nv)\n",
    "\n",
    "# Costs\n",
    "goalTrackingCost = crocoddyl.CostModelFramePlacement(state, Mref, actModel.nu)\n",
    "xRegCost = crocoddyl.CostModelState(state, crocoddyl.ActivationModelWeightedQuad(stateWeights), state.zero(),\n",
    "                                    actModel.nu)\n",
    "uRegCost = crocoddyl.CostModelControl(state, actModel.nu)\n",
    "runningCostModel.addCost(\"xReg\", xRegCost, 1e-6)\n",
    "runningCostModel.addCost(\"uReg\", uRegCost, 1e-6)\n",
    "runningCostModel.addCost(\"trackPose\", goalTrackingCost, 1e-2)\n",
    "terminalCostModel.addCost(\"goalPose\", goalTrackingCost, 100)\n",
    "\n",
    "dt = 3e-2\n",
    "runningModel = crocoddyl.IntegratedActionModelEuler(\n",
    "    crocoddyl.DifferentialActionModelFreeFwdDynamics(state, actModel, runningCostModel), dt)\n",
    "terminalModel = crocoddyl.IntegratedActionModelEuler(\n",
    "    crocoddyl.DifferentialActionModelFreeFwdDynamics(state, actModel, terminalCostModel), dt)\n",
    "\n",
    "# Creating the shooting problem and the FDDP solver\n",
    "T = 33\n",
    "problem = crocoddyl.ShootingProblem(np.concatenate([hector.q0, np.zeros(state.nv)]), [runningModel] * T, terminalModel)\n",
    "fddp = crocoddyl.SolverFDDP(problem)\n",
    "\n",
    "fddp.setCallbacks([crocoddyl.CallbackLogger(), crocoddyl.CallbackVerbose()])\n",
    "\n",
    "\n",
    "# Solving the problem with the FDDP solver\n",
    "fddp.solve()\n",
    "\n"
   ]
  },
  {
   "cell_type": "code",
   "execution_count": null,
   "metadata": {},
   "outputs": [],
   "source": []
  }
 ],
 "metadata": {
  "kernelspec": {
   "display_name": "Python 3",
   "language": "python",
   "name": "python3"
  },
  "language_info": {
   "codemirror_mode": {
    "name": "ipython",
    "version": 3
   },
   "file_extension": ".py",
   "mimetype": "text/x-python",
   "name": "python",
   "nbconvert_exporter": "python",
   "pygments_lexer": "ipython3",
   "version": "3.6.9"
  }
 },
 "nbformat": 4,
 "nbformat_minor": 4
}
