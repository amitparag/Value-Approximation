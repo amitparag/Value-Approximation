{
 "cells": [
  {
   "cell_type": "code",
   "execution_count": 1,
   "metadata": {},
   "outputs": [],
   "source": [
    "import torch"
   ]
  },
  {
   "cell_type": "code",
   "execution_count": 2,
   "metadata": {},
   "outputs": [],
   "source": [
    "device = 'cuda'\n",
    "self = torch.device(device)"
   ]
  },
  {
   "cell_type": "code",
   "execution_count": 4,
   "metadata": {},
   "outputs": [],
   "source": [
    "x = torch.rand(1, 3).to(device)"
   ]
  },
  {
   "cell_type": "code",
   "execution_count": 5,
   "metadata": {},
   "outputs": [
    {
     "data": {
      "text/plain": [
       "tensor([[0.6966, 0.0188, 0.0977]], device='cuda:0')"
      ]
     },
     "execution_count": 5,
     "metadata": {},
     "output_type": "execute_result"
    }
   ],
   "source": [
    "x"
   ]
  },
  {
   "cell_type": "code",
   "execution_count": 8,
   "metadata": {},
   "outputs": [
    {
     "data": {
      "image/png": "[encoded data removed]",
      "text/plain": [
       "<Figure size 432x288 with 1 Axes>"
      ]
     },
     "metadata": {
      "needs_background": "light"
     },
     "output_type": "display_data"
    }
   ],
   "source": [
    "import crocoddyl\n",
    "import numpy as np\n",
    "import matplotlib.pyplot as plt\n",
    "\n",
    "x0 = np.array([-1, -1,0 ]).reshape(-1, 1)\n",
    "model = crocoddyl.ActionModelUnicycle()\n",
    "model.costWeights = np.array([1., 1]).T\n",
    "problem = crocoddyl.ShootingProblem(x0, [model]*20, model)\n",
    "ddp = crocoddyl.SolverDDP(problem)\n",
    "ddp.solve()\n",
    "\n",
    "xs = np.array(ddp.xs)\n",
    "plt.plot(xs[:,0], xs[:,1])\n",
    "plt.show()"
   ]
  },
  {
   "cell_type": "code",
   "execution_count": null,
   "metadata": {},
   "outputs": [],
   "source": []
  },
  {
   "cell_type": "code",
   "execution_count": 29,
   "metadata": {},
   "outputs": [],
   "source": [
    "\"\"\"\n",
    "A simple multioutput feedforward neural network to predict value function and trajectory given an initial starting state.\n",
    "\"\"\"\n",
    "import torch\n",
    "import numpy as np\n",
    "import torch.nn as nn\n",
    "torch.set_default_dtype(torch.double)\n",
    "\n",
    "class WarmstartNetwork(nn.Module):\n",
    "    def __init__(self,\n",
    "                state_dims:int  = 3,\n",
    "                value_dims:int  = 1,\n",
    "                horizon:int     = 30,\n",
    "                fc1_dims:int    = 20,\n",
    "                fc2_dims:int    = 20,\n",
    "                fc3_dims:int    = 2,\n",
    "                activation      = nn.Tanh(),\n",
    "                device          = 'cpu'):\n",
    "        super(WarmstartNetwork, self).__init__()\n",
    "\n",
    "\n",
    "        \"\"\"\n",
    "        Create a simple feedforward neural network with pytorch.\n",
    "        \n",
    "        @params:\n",
    "            1: state_dims  = input_features, i.e the number of features in the training dataset. This correponds to the dimension of the state space for the problem\n",
    "            2: value_dims  = corresponds to ddp.cost. features. should be 1 for value\n",
    "            3; xs_dims     = corresponds to ddp.xs, therefore should be len(horizon) + 1\n",
    "            4: us_dims     = corresponds to ddp.us, therefore should be = len(horizon)\n",
    "            2: fc1_dims    = number of units in the first fully connected layer. Default 20\n",
    "            3: fc2_dims    = number of units in the second fully connected layer. Default 20\n",
    "            4: fc3_dims    = number of units in the second fully connected layer. Default 20\n",
    "            5: activation  = activation for the layers, default tanh.\n",
    "            \n",
    "        @returns:\n",
    "            A 3 layered neural network with three outputs\n",
    "            \n",
    "            \n",
    "        #########################################################################################################\n",
    "        #   The architecture of the network is :                                                                #\n",
    "        #                                                                                                       #\n",
    "        #   x --> activation[layer1] ---> activation[layer2] ---> [layer3] == Value  , Trajectory, Control      #\n",
    "        #                                                                                                       #\n",
    "        #########################################################################################################\n",
    "            \n",
    "        \"\"\"\n",
    "\n",
    "        self.state_dims = state_dims\n",
    "        self.value_dims = value_dims\n",
    "        self.xs_dims    = horizon*3\n",
    "        self.us_dims    = horizon*3\n",
    "        self.fc1_dims   = fc1_dims\n",
    "        self.fc2_dims   = fc2_dims\n",
    "        self.fc3_dims   = fc3_dims\n",
    "        self.activation = activation\n",
    "\n",
    "\n",
    "        self.fc1 = nn.Linear(self.state_dims, self.fc1_dims)\n",
    "        self.fc2 = nn.Linear(self.fc1_dims, self.fc2_dims)\n",
    "        self.fc3 = nn.Linear(self.fc2_dims, self.fc3_dims)\n",
    "        \n",
    "        # Value Output Layer\n",
    "        self.fc4 = nn.Linear(self.fc3_dims, self.value_dims)\n",
    "        # Trajectory Output Layer\n",
    "        self.fc5 = nn.Linear(self.fc3_dims, self.xs_dims)\n",
    "        # Control Output Layer\n",
    "        self.fc6 = nn.Linear(self.fc3_dims, self.us_dims)\n",
    "\n",
    "        # Weight Initialization protocol\n",
    "        nn.init.kaiming_normal_(self.fc1.weight)\n",
    "        nn.init.kaiming_normal_(self.fc2.weight)\n",
    "        nn.init.kaiming_normal_(self.fc3.weight)\n",
    "        nn.init.kaiming_normal_(self.fc4.weight)\n",
    "        nn.init.kaiming_normal_(self.fc5.weight)\n",
    "        nn.init.kaiming_normal_(self.fc6.weight)\n",
    "\n",
    "\n",
    "        \n",
    "        # Bias Initialization protocol\n",
    "        nn.init.constant_(self.fc1.bias, 0)\n",
    "        nn.init.constant_(self.fc2.bias, 0)\n",
    "        nn.init.constant_(self.fc3.bias, 0)\n",
    "        nn.init.constant_(self.fc4.bias, 0)\n",
    "        nn.init.constant_(self.fc5.bias, 0)\n",
    "        nn.init.constant_(self.fc6.bias, 0)\n",
    "\n",
    "\n",
    "\n",
    "    def forward(self, state):\n",
    "        \"\"\"Calculate the value, trajectory and control from this state\"\"\"\n",
    "\n",
    "        output = self.activation(self.fc1(state))\n",
    "        output = self.activation(self.fc2(output))\n",
    "        output = self.activation(self.fc3(output))\n",
    "        \n",
    "        value = self.fc4(output)\n",
    "        trajectory = self.fc5(output)\n",
    "        control = self.fc5(output)\n",
    "\n",
    "\n",
    "        if self.xs_dims == 0: return value\n",
    "        else: return value, trajectory, control\n",
    "\n",
    "    def value_function(self, state):\n",
    "\n",
    "        output = self.activation(self.fc1(state))\n",
    "        output = self.activation(self.fc2(output))\n",
    "        output = self.activation(self.fc3(output))\n",
    "        value = self.fc4(output)\n",
    "\n",
    "        return value\n",
    "\n",
    "    def jacobian(self, state):\n",
    "        \"\"\"\n",
    "        @Args:\n",
    "            x = state\n",
    "            \n",
    "        @Returns\n",
    "            The jacobian of the Value function with respect to state.\n",
    "            Jacobian = dV/dx\n",
    "        \n",
    "        \"\"\"\n",
    "        return torch.autograd.functional.jacobian(self.value_function, state).squeeze()\n",
    "\n",
    "\n",
    "    def hessian(self, state):\n",
    "        \"\"\"\n",
    "        @Args:\n",
    "            x = state\n",
    "            \n",
    "        @Returns\n",
    "            The hessian of the Value function with respect to state.\n",
    "            Hessian = d^2V/dx^2        \n",
    "        \"\"\"\n",
    "        return torch.autograd.functional.hessian(self.value_function, state)\n",
    "\n",
    "    def batch_jacobian(self, states):\n",
    "        \"\"\"\n",
    "        Returns the jacobians of multiple inputs\n",
    "        \"\"\"\n",
    "        j = [torch.autograd.functional.jacobian(self.value_function, state).squeeze() for state in states]\n",
    "        return torch.stack(j).squeeze()\n",
    "    \n",
    "    def batch_hessian(self, states):\n",
    "        \"\"\"\n",
    "        Returns the hessians of the multiple inputs \n",
    "        \n",
    "        \"\"\"\n",
    "        h = [torch.autograd.functional.hessian(self.value_function, state).squeeze() for state in states]\n",
    "        return torch.stack(h).squeeze()        "
   ]
  },
  {
   "cell_type": "code",
   "execution_count": 33,
   "metadata": {},
   "outputs": [],
   "source": [
    "x = torch.rand(10, 3).to('cuda')\n",
    "net = WarmstartNetwork(horizon=100)\n",
    "\n",
    "#a, b, c = net(x)\n",
    "#print(a[0], b[0].reshape(30, 3), c[0].reshape(30, 3))\n",
    "net.to('cuda')\n",
    "a= net(x)"
   ]
  },
  {
   "cell_type": "code",
   "execution_count": null,
   "metadata": {},
   "outputs": [],
   "source": []
  }
 ],
 "metadata": {
  "kernelspec": {
   "display_name": "Python 3",
   "language": "python",
   "name": "python3"
  },
  "language_info": {
   "codemirror_mode": {
    "name": "ipython",
    "version": 3
   },
   "file_extension": ".py",
   "mimetype": "text/x-python",
   "name": "python",
   "nbconvert_exporter": "python",
   "pygments_lexer": "ipython3",
   "version": "3.6.9"
  }
 },
 "nbformat": 4,
 "nbformat_minor": 4
}
